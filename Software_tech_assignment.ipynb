{
  "cells": [
    {
      "cell_type": "markdown",
      "metadata": {
        "id": "XFXr269brL8Q"
      },
      "source": [
        "**Capstone Project**"
      ]
    },
    {
      "cell_type": "markdown",
      "metadata": {
        "id": "S5ugQsJ17AlD"
      },
      "source": []
    },
    {
      "cell_type": "code",
      "execution_count": 12,
      "metadata": {
        "colab": {
          "base_uri": "https://localhost:8080/"
        },
        "id": "dASwo8loqi6h",
        "outputId": "18cca0ed-d6f6-43f8-a96c-c916699ec1c8"
      },
      "outputs": [
        {
          "output_type": "stream",
          "name": "stdout",
          "text": [
            "/content/drive/MyDrive/ST1_CapstoneProject\n"
          ]
        }
      ],
      "source": [
        "%cd /content/drive/MyDrive/ST1_CapstoneProject"
      ]
    },
    {
      "cell_type": "markdown",
      "source": [
        "To suppress any warnings thay may rise during the Analysis"
      ],
      "metadata": {
        "id": "xikCdYjlTz7H"
      }
    },
    {
      "cell_type": "code",
      "execution_count": 13,
      "metadata": {
        "id": "LuzFRuUSrIJT"
      },
      "outputs": [],
      "source": [
        "import warnings\n",
        "warnings.filterwarnings('ignore')"
      ]
    },
    {
      "cell_type": "code",
      "execution_count": 14,
      "metadata": {
        "colab": {
          "base_uri": "https://localhost:8080/"
        },
        "id": "jdYaksxP83sn",
        "outputId": "3c1430b5-73b4-4145-b64d-b14123c56380"
      },
      "outputs": [
        {
          "output_type": "stream",
          "name": "stdout",
          "text": [
            "Initial Shape: (6639, 6)\n",
            "Shape after dropping duplicate data: (6639, 6)\n",
            "             open   high    low  close   volume\n",
            "datetime                                       \n",
            "02-01-1998  38.38  38.63  37.31  37.50   594000\n",
            "05-01-1998  37.63  37.78  36.75  37.13   644000\n",
            "06-01-1998  37.13  37.38  35.56  35.63  1183300\n",
            "07-01-1998  35.50  36.44  34.25  34.69  2039005\n",
            "08-01-1998  34.56  36.01  34.00  35.76  1638105\n"
          ]
        }
      ],
      "source": [
        "import pandas as pd\n",
        "import numpy as np\n",
        "stockdata=pd.read_csv(\"/content/drive/MyDrive/ST1_CapstoneProject/Starbucks.csv\")\n",
        "print(\"Initial Shape:\",stockdata.shape)\n",
        "stockdata=stockdata.drop_duplicates()\n",
        "print(\"Shape after dropping duplicate data:\",stockdata.shape)\n",
        "stockdata.set_index('datetime',inplace=True)\n",
        "#ample Data\n",
        "print(stockdata.head(5))\n",
        "x=stockdata.index\n",
        "y=stockdata['close']\n"
      ]
    },
    {
      "cell_type": "markdown",
      "source": [
        "Plotting a histogram for \"close\" (our target varibale) do check if its value are skewed"
      ],
      "metadata": {
        "id": "39LomXcEUz6n"
      }
    },
    {
      "cell_type": "code",
      "execution_count": 15,
      "metadata": {
        "colab": {
          "base_uri": "https://localhost:8080/",
          "height": 447
        },
        "id": "1WuhIpYz8jOQ",
        "outputId": "b2d95692-68a7-49ef-c362-2e276fa994e8"
      },
      "outputs": [
        {
          "output_type": "execute_result",
          "data": {
            "text/plain": [
              "<Axes: >"
            ]
          },
          "metadata": {},
          "execution_count": 15
        },
        {
          "output_type": "display_data",
          "data": {
            "text/plain": [
              "<Figure size 640x480 with 1 Axes>"
            ],
            "image/png": "[encoded data removed]"
          },
          "metadata": {}
        }
      ],
      "source": [
        "import matplotlib\n",
        "y.hist()"
      ]
    },
    {
      "cell_type": "code",
      "execution_count": 16,
      "metadata": {
        "colab": {
          "base_uri": "https://localhost:8080/"
        },
        "id": "7Zt3TWX5QZNP",
        "outputId": "7c6f6398-abfd-4100-cae9-8e57e34f23f2"
      },
      "outputs": [
        {
          "output_type": "stream",
          "name": "stdout",
          "text": [
            "<class 'pandas.core.frame.DataFrame'>\n",
            "Index: 6639 entries, 02-01-1998 to 13-03-2024\n",
            "Data columns (total 5 columns):\n",
            " #   Column  Non-Null Count  Dtype  \n",
            "---  ------  --------------  -----  \n",
            " 0   open    6639 non-null   float64\n",
            " 1   high    6639 non-null   float64\n",
            " 2   low     6639 non-null   float64\n",
            " 3   close   6639 non-null   float64\n",
            " 4   volume  6639 non-null   int64  \n",
            "dtypes: float64(4), int64(1)\n",
            "memory usage: 311.2+ KB\n"
          ]
        }
      ],
      "source": [
        "stockdata.info()"
      ]
    },
    {
      "cell_type": "code",
      "execution_count": 17,
      "metadata": {
        "colab": {
          "base_uri": "https://localhost:8080/",
          "height": 431
        },
        "id": "U_d_4ep8Sm_4",
        "outputId": "24215f34-528f-4975-813b-4ee8e5d1502b"
      },
      "outputs": [
        {
          "output_type": "stream",
          "name": "stdout",
          "text": [
            "<class 'pandas.core.frame.DataFrame'>\n",
            "RangeIndex: 6639 entries, 0 to 6638\n",
            "Data columns (total 6 columns):\n",
            " #   Column    Non-Null Count  Dtype         \n",
            "---  ------    --------------  -----         \n",
            " 0   datetime  6639 non-null   datetime64[ns]\n",
            " 1   open      6639 non-null   float64       \n",
            " 2   high      6639 non-null   float64       \n",
            " 3   low       6639 non-null   float64       \n",
            " 4   close     6639 non-null   float64       \n",
            " 5   volume    6639 non-null   int64         \n",
            "dtypes: datetime64[ns](1), float64(4), int64(1)\n",
            "memory usage: 311.3 KB\n"
          ]
        },
        {
          "output_type": "execute_result",
          "data": {
            "text/plain": [
              "    datetime   open   high    low  close   volume\n",
              "0 1998-02-01  38.38  38.63  37.31  37.50   594000\n",
              "1 1998-05-01  37.63  37.78  36.75  37.13   644000\n",
              "2 1998-06-01  37.13  37.38  35.56  35.63  1183300\n",
              "3 1998-07-01  35.50  36.44  34.25  34.69  2039005\n",
              "4 1998-08-01  34.56  36.01  34.00  35.76  1638105"
            ],
            "text/html": [
              "\n",
              "  <div id=\"df-63a8328f-9b3f-4ad4-ae42-e53575b2131a\" class=\"colab-df-container\">\n",
              "    <div>\n",
              "<style scoped>\n",
              "    .dataframe tbody tr th:only-of-type {\n",
              "        vertical-align: middle;\n",
              "    }\n",
              "\n",
              "    .dataframe tbody tr th {\n",
              "        vertical-align: top;\n",
              "    }\n",
              "\n",
              "    .dataframe thead th {\n",
              "        text-align: right;\n",
              "    }\n",
              "</style>\n",
              "<table border=\"1\" class=\"dataframe\">\n",
              "  <thead>\n",
              "    <tr style=\"text-align: right;\">\n",
              "      <th></th>\n",
              "      <th>datetime</th>\n",
              "      <th>open</th>\n",
              "      <th>high</th>\n",
              "      <th>low</th>\n",
              "      <th>close</th>\n",
              "      <th>volume</th>\n",
              "    </tr>\n",
              "  </thead>\n",
              "  <tbody>\n",
              "    <tr>\n",
              "      <th>0</th>\n",
              "      <td>1998-02-01</td>\n",
              "      <td>38.38</td>\n",
              "      <td>38.63</td>\n",
              "      <td>37.31</td>\n",
              "      <td>37.50</td>\n",
              "      <td>594000</td>\n",
              "    </tr>\n",
              "    <tr>\n",
              "      <th>1</th>\n",
              "      <td>1998-05-01</td>\n",
              "      <td>37.63</td>\n",
              "      <td>37.78</td>\n",
              "      <td>36.75</td>\n",
              "      <td>37.13</td>\n",
              "      <td>644000</td>\n",
              "    </tr>\n",
              "    <tr>\n",
              "      <th>2</th>\n",
              "      <td>1998-06-01</td>\n",
              "      <td>37.13</td>\n",
              "      <td>37.38</td>\n",
              "      <td>35.56</td>\n",
              "      <td>35.63</td>\n",
              "      <td>1183300</td>\n",
              "    </tr>\n",
              "    <tr>\n",
              "      <th>3</th>\n",
              "      <td>1998-07-01</td>\n",
              "      <td>35.50</td>\n",
              "      <td>36.44</td>\n",
              "      <td>34.25</td>\n",
              "      <td>34.69</td>\n",
              "      <td>2039005</td>\n",
              "    </tr>\n",
              "    <tr>\n",
              "      <th>4</th>\n",
              "      <td>1998-08-01</td>\n",
              "      <td>34.56</td>\n",
              "      <td>36.01</td>\n",
              "      <td>34.00</td>\n",
              "      <td>35.76</td>\n",
              "      <td>1638105</td>\n",
              "    </tr>\n",
              "  </tbody>\n",
              "</table>\n",
              "</div>\n",
              "    <div class=\"colab-df-buttons\">\n",
              "\n",
              "  <div class=\"colab-df-container\">\n",
              "    <button class=\"colab-df-convert\" onclick=\"convertToInteractive('df-63a8328f-9b3f-4ad4-ae42-e53575b2131a')\"\n",
              "            title=\"Convert this dataframe to an interactive table.\"\n",
              "            style=\"display:none;\">\n",
              "\n",
              "  <svg xmlns=\"http://www.w3.org/2000/svg\" height=\"24px\" viewBox=\"0 -960 960 960\">\n",
              "    <path d=\"M120-120v-720h720v720H120Zm60-500h600v-160H180v160Zm220 220h160v-160H400v160Zm0 220h160v-160H400v160ZM180-400h160v-160H180v160Zm440 0h160v-160H620v160ZM180-180h160v-160H180v160Zm440 0h160v-160H620v160Z\"/>\n",
              "  </svg>\n",
              "    </button>\n",
              "\n",
              "  <style>\n",
              "    .colab-df-container {\n",
              "      display:flex;\n",
              "      gap: 12px;\n",
              "    }\n",
              "\n",
              "    .colab-df-convert {\n",
              "      background-color: #E8F0FE;\n",
              "      border: none;\n",
              "      border-radius: 50%;\n",
              "      cursor: pointer;\n",
              "      display: none;\n",
              "      fill: #1967D2;\n",
              "      height: 32px;\n",
              "      padding: 0 0 0 0;\n",
              "      width: 32px;\n",
              "    }\n",
              "\n",
              "    .colab-df-convert:hover {\n",
              "      background-color: #E2EBFA;\n",
              "      box-shadow: 0px 1px 2px rgba(60, 64, 67, 0.3), 0px 1px 3px 1px rgba(60, 64, 67, 0.15);\n",
              "      fill: #174EA6;\n",
              "    }\n",
              "\n",
              "    .colab-df-buttons div {\n",
              "      margin-bottom: 4px;\n",
              "    }\n",
              "\n",
              "    [theme=dark] .colab-df-convert {\n",
              "      background-color: #3B4455;\n",
              "      fill: #D2E3FC;\n",
              "    }\n",
              "\n",
              "    [theme=dark] .colab-df-convert:hover {\n",
              "      background-color: #434B5C;\n",
              "      box-shadow: 0px 1px 3px 1px rgba(0, 0, 0, 0.15);\n",
              "      filter: drop-shadow(0px 1px 2px rgba(0, 0, 0, 0.3));\n",
              "      fill: #FFFFFF;\n",
              "    }\n",
              "  </style>\n",
              "\n",
              "    <script>\n",
              "      const buttonEl =\n",
              "        document.querySelector('#df-63a8328f-9b3f-4ad4-ae42-e53575b2131a button.colab-df-convert');\n",
              "      buttonEl.style.display =\n",
              "        google.colab.kernel.accessAllowed ? 'block' : 'none';\n",
              "\n",
              "      async function convertToInteractive(key) {\n",
              "        const element = document.querySelector('#df-63a8328f-9b3f-4ad4-ae42-e53575b2131a');\n",
              "        const dataTable =\n",
              "          await google.colab.kernel.invokeFunction('convertToInteractive',\n",
              "                                                    [key], {});\n",
              "        if (!dataTable) return;\n",
              "\n",
              "        const docLinkHtml = 'Like what you see? Visit the ' +\n",
              "          '<a target=\"_blank\" href=https://colab.research.google.com/notebooks/data_table.ipynb>data table notebook</a>'\n",
              "          + ' to learn more about interactive tables.';\n",
              "        element.innerHTML = '';\n",
              "        dataTable['output_type'] = 'display_data';\n",
              "        await google.colab.output.renderOutput(dataTable, element);\n",
              "        const docLink = document.createElement('div');\n",
              "        docLink.innerHTML = docLinkHtml;\n",
              "        element.appendChild(docLink);\n",
              "      }\n",
              "    </script>\n",
              "  </div>\n",
              "\n",
              "\n",
              "<div id=\"df-4300cf0f-f201-45a9-b4de-7a3474db9c1f\">\n",
              "  <button class=\"colab-df-quickchart\" onclick=\"quickchart('df-4300cf0f-f201-45a9-b4de-7a3474db9c1f')\"\n",
              "            title=\"Suggest charts\"\n",
              "            style=\"display:none;\">\n",
              "\n",
              "<svg xmlns=\"http://www.w3.org/2000/svg\" height=\"24px\"viewBox=\"0 0 24 24\"\n",
              "     width=\"24px\">\n",
              "    <g>\n",
              "        <path d=\"M19 3H5c-1.1 0-2 .9-2 2v14c0 1.1.9 2 2 2h14c1.1 0 2-.9 2-2V5c0-1.1-.9-2-2-2zM9 17H7v-7h2v7zm4 0h-2V7h2v10zm4 0h-2v-4h2v4z\"/>\n",
              "    </g>\n",
              "</svg>\n",
              "  </button>\n",
              "\n",
              "<style>\n",
              "  .colab-df-quickchart {\n",
              "      --bg-color: #E8F0FE;\n",
              "      --fill-color: #1967D2;\n",
              "      --hover-bg-color: #E2EBFA;\n",
              "      --hover-fill-color: #174EA6;\n",
              "      --disabled-fill-color: #AAA;\n",
              "      --disabled-bg-color: #DDD;\n",
              "  }\n",
              "\n",
              "  [theme=dark] .colab-df-quickchart {\n",
              "      --bg-color: #3B4455;\n",
              "      --fill-color: #D2E3FC;\n",
              "      --hover-bg-color: #434B5C;\n",
              "      --hover-fill-color: #FFFFFF;\n",
              "      --disabled-bg-color: #3B4455;\n",
              "      --disabled-fill-color: #666;\n",
              "  }\n",
              "\n",
              "  .colab-df-quickchart {\n",
              "    background-color: var(--bg-color);\n",
              "    border: none;\n",
              "    border-radius: 50%;\n",
              "    cursor: pointer;\n",
              "    display: none;\n",
              "    fill: var(--fill-color);\n",
              "    height: 32px;\n",
              "    padding: 0;\n",
              "    width: 32px;\n",
              "  }\n",
              "\n",
              "  .colab-df-quickchart:hover {\n",
              "    background-color: var(--hover-bg-color);\n",
              "    box-shadow: 0 1px 2px rgba(60, 64, 67, 0.3), 0 1px 3px 1px rgba(60, 64, 67, 0.15);\n",
              "    fill: var(--button-hover-fill-color);\n",
              "  }\n",
              "\n",
              "  .colab-df-quickchart-complete:disabled,\n",
              "  .colab-df-quickchart-complete:disabled:hover {\n",
              "    background-color: var(--disabled-bg-color);\n",
              "    fill: var(--disabled-fill-color);\n",
              "    box-shadow: none;\n",
              "  }\n",
              "\n",
              "  .colab-df-spinner {\n",
              "    border: 2px solid var(--fill-color);\n",
              "    border-color: transparent;\n",
              "    border-bottom-color: var(--fill-color);\n",
              "    animation:\n",
              "      spin 1s steps(1) infinite;\n",
              "  }\n",
              "\n",
              "  @keyframes spin {\n",
              "    0% {\n",
              "      border-color: transparent;\n",
              "      border-bottom-color: var(--fill-color);\n",
              "      border-left-color: var(--fill-color);\n",
              "    }\n",
              "    20% {\n",
              "      border-color: transparent;\n",
              "      border-left-color: var(--fill-color);\n",
              "      border-top-color: var(--fill-color);\n",
              "    }\n",
              "    30% {\n",
              "      border-color: transparent;\n",
              "      border-left-color: var(--fill-color);\n",
              "      border-top-color: var(--fill-color);\n",
              "      border-right-color: var(--fill-color);\n",
              "    }\n",
              "    40% {\n",
              "      border-color: transparent;\n",
              "      border-right-color: var(--fill-color);\n",
              "      border-top-color: var(--fill-color);\n",
              "    }\n",
              "    60% {\n",
              "      border-color: transparent;\n",
              "      border-right-color: var(--fill-color);\n",
              "    }\n",
              "    80% {\n",
              "      border-color: transparent;\n",
              "      border-right-color: var(--fill-color);\n",
              "      border-bottom-color: var(--fill-color);\n",
              "    }\n",
              "    90% {\n",
              "      border-color: transparent;\n",
              "      border-bottom-color: var(--fill-color);\n",
              "    }\n",
              "  }\n",
              "</style>\n",
              "\n",
              "  <script>\n",
              "    async function quickchart(key) {\n",
              "      const quickchartButtonEl =\n",
              "        document.querySelector('#' + key + ' button');\n",
              "      quickchartButtonEl.disabled = true;  // To prevent multiple clicks.\n",
              "      quickchartButtonEl.classList.add('colab-df-spinner');\n",
              "      try {\n",
              "        const charts = await google.colab.kernel.invokeFunction(\n",
              "            'suggestCharts', [key], {});\n",
              "      } catch (error) {\n",
              "        console.error('Error during call to suggestCharts:', error);\n",
              "      }\n",
              "      quickchartButtonEl.classList.remove('colab-df-spinner');\n",
              "      quickchartButtonEl.classList.add('colab-df-quickchart-complete');\n",
              "    }\n",
              "    (() => {\n",
              "      let quickchartButtonEl =\n",
              "        document.querySelector('#df-4300cf0f-f201-45a9-b4de-7a3474db9c1f button');\n",
              "      quickchartButtonEl.style.display =\n",
              "        google.colab.kernel.accessAllowed ? 'block' : 'none';\n",
              "    })();\n",
              "  </script>\n",
              "</div>\n",
              "\n",
              "    </div>\n",
              "  </div>\n"
            ],
            "application/vnd.google.colaboratory.intrinsic+json": {
              "type": "dataframe",
              "variable_name": "stockdata",
              "summary": "{\n  \"name\": \"stockdata\",\n  \"rows\": 6639,\n  \"fields\": [\n    {\n      \"column\": \"datetime\",\n      \"properties\": {\n        \"dtype\": \"date\",\n        \"min\": \"1998-01-04 00:00:00\",\n        \"max\": \"2024-12-03 00:00:00\",\n        \"num_unique_values\": 6639,\n        \"samples\": [\n          \"2004-07-30 00:00:00\",\n          \"2019-01-30 00:00:00\",\n          \"2009-11-13 00:00:00\"\n        ],\n        \"semantic_type\": \"\",\n        \"description\": \"\"\n      }\n    },\n    {\n      \"column\": \"open\",\n      \"properties\": {\n        \"dtype\": \"number\",\n        \"std\": 27.16186996481383,\n        \"min\": 7.52,\n        \"max\": 126.08,\n        \"num_unique_values\": 4356,\n        \"samples\": [\n          11.54,\n          30.78,\n          17.92\n        ],\n        \"semantic_type\": \"\",\n        \"description\": \"\"\n      }\n    },\n    {\n      \"column\": \"high\",\n      \"properties\": {\n        \"dtype\": \"number\",\n        \"std\": 27.312972088582608,\n        \"min\": 7.9,\n        \"max\": 126.32,\n        \"num_unique_values\": 4370,\n        \"samples\": [\n          103.09,\n          58.93,\n          60.51\n        ],\n        \"semantic_type\": \"\",\n        \"description\": \"\"\n      }\n    },\n    {\n      \"column\": \"low\",\n      \"properties\": {\n        \"dtype\": \"number\",\n        \"std\": 26.994024927447267,\n        \"min\": 7.06,\n        \"max\": 124.81,\n        \"num_unique_values\": 4301,\n        \"samples\": [\n          22.5,\n          93.04,\n          37.14\n        ],\n        \"semantic_type\": \"\",\n        \"description\": \"\"\n      }\n    },\n    {\n      \"column\": \"close\",\n      \"properties\": {\n        \"dtype\": \"number\",\n        \"std\": 27.155433894620288,\n        \"min\": 7.2,\n        \"max\": 126.06,\n        \"num_unique_values\": 4417,\n        \"samples\": [\n          27.33,\n          33.95,\n          100.12\n        ],\n        \"semantic_type\": \"\",\n        \"description\": \"\"\n      }\n    },\n    {\n      \"column\": \"volume\",\n      \"properties\": {\n        \"dtype\": \"number\",\n        \"std\": 4658699,\n        \"min\": 300,\n        \"max\": 72344450,\n        \"num_unique_values\": 6623,\n        \"samples\": [\n          831503,\n          2696600,\n          1373931\n        ],\n        \"semantic_type\": \"\",\n        \"description\": \"\"\n      }\n    }\n  ]\n}"
            }
          },
          "metadata": {},
          "execution_count": 17
        }
      ],
      "source": [
        "#converting datetime column to type datetime\n",
        "stockdata.reset_index(inplace=True)\n",
        "stockdata['datetime'] = pd.to_datetime(stockdata['datetime'])\n",
        "stockdata.info()\n",
        "stockdata.head()"
      ]
    },
    {
      "cell_type": "code",
      "execution_count": 18,
      "metadata": {
        "colab": {
          "base_uri": "https://localhost:8080/",
          "height": 300
        },
        "id": "JR9ojLv3U6DH",
        "outputId": "a80f9d87-6770-464a-83ba-f4809e3f2245"
      },
      "outputs": [
        {
          "output_type": "execute_result",
          "data": {
            "text/plain": [
              "              open         high          low        close        volume\n",
              "count  6639.000000  6639.000000  6639.000000  6639.000000  6.639000e+03\n",
              "mean     52.025905    52.605072    51.438399    52.034272  5.793768e+06\n",
              "std      27.161870    27.312972    26.994025    27.155434  4.658699e+06\n",
              "min       7.520000     7.900000     7.060000     7.200000  3.000000e+02\n",
              "25%      29.735000    30.130000    29.290000    29.665000  2.875130e+06\n",
              "50%      49.340000    50.000000    48.660000    49.400000  4.693841e+06\n",
              "75%      71.500000    72.215000    70.680000    71.390000  7.301760e+06\n",
              "max     126.080000   126.320000   124.810000   126.060000  7.234445e+07"
            ],
            "text/html": [
              "\n",
              "  <div id=\"df-59934bce-13f2-4059-91f7-39ae6a68bf42\" class=\"colab-df-container\">\n",
              "    <div>\n",
              "<style scoped>\n",
              "    .dataframe tbody tr th:only-of-type {\n",
              "        vertical-align: middle;\n",
              "    }\n",
              "\n",
              "    .dataframe tbody tr th {\n",
              "        vertical-align: top;\n",
              "    }\n",
              "\n",
              "    .dataframe thead th {\n",
              "        text-align: right;\n",
              "    }\n",
              "</style>\n",
              "<table border=\"1\" class=\"dataframe\">\n",
              "  <thead>\n",
              "    <tr style=\"text-align: right;\">\n",
              "      <th></th>\n",
              "      <th>open</th>\n",
              "      <th>high</th>\n",
              "      <th>low</th>\n",
              "      <th>close</th>\n",
              "      <th>volume</th>\n",
              "    </tr>\n",
              "  </thead>\n",
              "  <tbody>\n",
              "    <tr>\n",
              "      <th>count</th>\n",
              "      <td>6639.000000</td>\n",
              "      <td>6639.000000</td>\n",
              "      <td>6639.000000</td>\n",
              "      <td>6639.000000</td>\n",
              "      <td>6.639000e+03</td>\n",
              "    </tr>\n",
              "    <tr>\n",
              "      <th>mean</th>\n",
              "      <td>52.025905</td>\n",
              "      <td>52.605072</td>\n",
              "      <td>51.438399</td>\n",
              "      <td>52.034272</td>\n",
              "      <td>5.793768e+06</td>\n",
              "    </tr>\n",
              "    <tr>\n",
              "      <th>std</th>\n",
              "      <td>27.161870</td>\n",
              "      <td>27.312972</td>\n",
              "      <td>26.994025</td>\n",
              "      <td>27.155434</td>\n",
              "      <td>4.658699e+06</td>\n",
              "    </tr>\n",
              "    <tr>\n",
              "      <th>min</th>\n",
              "      <td>7.520000</td>\n",
              "      <td>7.900000</td>\n",
              "      <td>7.060000</td>\n",
              "      <td>7.200000</td>\n",
              "      <td>3.000000e+02</td>\n",
              "    </tr>\n",
              "    <tr>\n",
              "      <th>25%</th>\n",
              "      <td>29.735000</td>\n",
              "      <td>30.130000</td>\n",
              "      <td>29.290000</td>\n",
              "      <td>29.665000</td>\n",
              "      <td>2.875130e+06</td>\n",
              "    </tr>\n",
              "    <tr>\n",
              "      <th>50%</th>\n",
              "      <td>49.340000</td>\n",
              "      <td>50.000000</td>\n",
              "      <td>48.660000</td>\n",
              "      <td>49.400000</td>\n",
              "      <td>4.693841e+06</td>\n",
              "    </tr>\n",
              "    <tr>\n",
              "      <th>75%</th>\n",
              "      <td>71.500000</td>\n",
              "      <td>72.215000</td>\n",
              "      <td>70.680000</td>\n",
              "      <td>71.390000</td>\n",
              "      <td>7.301760e+06</td>\n",
              "    </tr>\n",
              "    <tr>\n",
              "      <th>max</th>\n",
              "      <td>126.080000</td>\n",
              "      <td>126.320000</td>\n",
              "      <td>124.810000</td>\n",
              "      <td>126.060000</td>\n",
              "      <td>7.234445e+07</td>\n",
              "    </tr>\n",
              "  </tbody>\n",
              "</table>\n",
              "</div>\n",
              "    <div class=\"colab-df-buttons\">\n",
              "\n",
              "  <div class=\"colab-df-container\">\n",
              "    <button class=\"colab-df-convert\" onclick=\"convertToInteractive('df-59934bce-13f2-4059-91f7-39ae6a68bf42')\"\n",
              "            title=\"Convert this dataframe to an interactive table.\"\n",
              "            style=\"display:none;\">\n",
              "\n",
              "  <svg xmlns=\"http://www.w3.org/2000/svg\" height=\"24px\" viewBox=\"0 -960 960 960\">\n",
              "    <path d=\"M120-120v-720h720v720H120Zm60-500h600v-160H180v160Zm220 220h160v-160H400v160Zm0 220h160v-160H400v160ZM180-400h160v-160H180v160Zm440 0h160v-160H620v160ZM180-180h160v-160H180v160Zm440 0h160v-160H620v160Z\"/>\n",
              "  </svg>\n",
              "    </button>\n",
              "\n",
              "  <style>\n",
              "    .colab-df-container {\n",
              "      display:flex;\n",
              "      gap: 12px;\n",
              "    }\n",
              "\n",
              "    .colab-df-convert {\n",
              "      background-color: #E8F0FE;\n",
              "      border: none;\n",
              "      border-radius: 50%;\n",
              "      cursor: pointer;\n",
              "      display: none;\n",
              "      fill: #1967D2;\n",
              "      height: 32px;\n",
              "      padding: 0 0 0 0;\n",
              "      width: 32px;\n",
              "    }\n",
              "\n",
              "    .colab-df-convert:hover {\n",
              "      background-color: #E2EBFA;\n",
              "      box-shadow: 0px 1px 2px rgba(60, 64, 67, 0.3), 0px 1px 3px 1px rgba(60, 64, 67, 0.15);\n",
              "      fill: #174EA6;\n",
              "    }\n",
              "\n",
              "    .colab-df-buttons div {\n",
              "      margin-bottom: 4px;\n",
              "    }\n",
              "\n",
              "    [theme=dark] .colab-df-convert {\n",
              "      background-color: #3B4455;\n",
              "      fill: #D2E3FC;\n",
              "    }\n",
              "\n",
              "    [theme=dark] .colab-df-convert:hover {\n",
              "      background-color: #434B5C;\n",
              "      box-shadow: 0px 1px 3px 1px rgba(0, 0, 0, 0.15);\n",
              "      filter: drop-shadow(0px 1px 2px rgba(0, 0, 0, 0.3));\n",
              "      fill: #FFFFFF;\n",
              "    }\n",
              "  </style>\n",
              "\n",
              "    <script>\n",
              "      const buttonEl =\n",
              "        document.querySelector('#df-59934bce-13f2-4059-91f7-39ae6a68bf42 button.colab-df-convert');\n",
              "      buttonEl.style.display =\n",
              "        google.colab.kernel.accessAllowed ? 'block' : 'none';\n",
              "\n",
              "      async function convertToInteractive(key) {\n",
              "        const element = document.querySelector('#df-59934bce-13f2-4059-91f7-39ae6a68bf42');\n",
              "        const dataTable =\n",
              "          await google.colab.kernel.invokeFunction('convertToInteractive',\n",
              "                                                    [key], {});\n",
              "        if (!dataTable) return;\n",
              "\n",
              "        const docLinkHtml = 'Like what you see? Visit the ' +\n",
              "          '<a target=\"_blank\" href=https://colab.research.google.com/notebooks/data_table.ipynb>data table notebook</a>'\n",
              "          + ' to learn more about interactive tables.';\n",
              "        element.innerHTML = '';\n",
              "        dataTable['output_type'] = 'display_data';\n",
              "        await google.colab.output.renderOutput(dataTable, element);\n",
              "        const docLink = document.createElement('div');\n",
              "        docLink.innerHTML = docLinkHtml;\n",
              "        element.appendChild(docLink);\n",
              "      }\n",
              "    </script>\n",
              "  </div>\n",
              "\n",
              "\n",
              "<div id=\"df-3c15761c-b933-4ae1-b532-4c4f4080ac21\">\n",
              "  <button class=\"colab-df-quickchart\" onclick=\"quickchart('df-3c15761c-b933-4ae1-b532-4c4f4080ac21')\"\n",
              "            title=\"Suggest charts\"\n",
              "            style=\"display:none;\">\n",
              "\n",
              "<svg xmlns=\"http://www.w3.org/2000/svg\" height=\"24px\"viewBox=\"0 0 24 24\"\n",
              "     width=\"24px\">\n",
              "    <g>\n",
              "        <path d=\"M19 3H5c-1.1 0-2 .9-2 2v14c0 1.1.9 2 2 2h14c1.1 0 2-.9 2-2V5c0-1.1-.9-2-2-2zM9 17H7v-7h2v7zm4 0h-2V7h2v10zm4 0h-2v-4h2v4z\"/>\n",
              "    </g>\n",
              "</svg>\n",
              "  </button>\n",
              "\n",
              "<style>\n",
              "  .colab-df-quickchart {\n",
              "      --bg-color: #E8F0FE;\n",
              "      --fill-color: #1967D2;\n",
              "      --hover-bg-color: #E2EBFA;\n",
              "      --hover-fill-color: #174EA6;\n",
              "      --disabled-fill-color: #AAA;\n",
              "      --disabled-bg-color: #DDD;\n",
              "  }\n",
              "\n",
              "  [theme=dark] .colab-df-quickchart {\n",
              "      --bg-color: #3B4455;\n",
              "      --fill-color: #D2E3FC;\n",
              "      --hover-bg-color: #434B5C;\n",
              "      --hover-fill-color: #FFFFFF;\n",
              "      --disabled-bg-color: #3B4455;\n",
              "      --disabled-fill-color: #666;\n",
              "  }\n",
              "\n",
              "  .colab-df-quickchart {\n",
              "    background-color: var(--bg-color);\n",
              "    border: none;\n",
              "    border-radius: 50%;\n",
              "    cursor: pointer;\n",
              "    display: none;\n",
              "    fill: var(--fill-color);\n",
              "    height: 32px;\n",
              "    padding: 0;\n",
              "    width: 32px;\n",
              "  }\n",
              "\n",
              "  .colab-df-quickchart:hover {\n",
              "    background-color: var(--hover-bg-color);\n",
              "    box-shadow: 0 1px 2px rgba(60, 64, 67, 0.3), 0 1px 3px 1px rgba(60, 64, 67, 0.15);\n",
              "    fill: var(--button-hover-fill-color);\n",
              "  }\n",
              "\n",
              "  .colab-df-quickchart-complete:disabled,\n",
              "  .colab-df-quickchart-complete:disabled:hover {\n",
              "    background-color: var(--disabled-bg-color);\n",
              "    fill: var(--disabled-fill-color);\n",
              "    box-shadow: none;\n",
              "  }\n",
              "\n",
              "  .colab-df-spinner {\n",
              "    border: 2px solid var(--fill-color);\n",
              "    border-color: transparent;\n",
              "    border-bottom-color: var(--fill-color);\n",
              "    animation:\n",
              "      spin 1s steps(1) infinite;\n",
              "  }\n",
              "\n",
              "  @keyframes spin {\n",
              "    0% {\n",
              "      border-color: transparent;\n",
              "      border-bottom-color: var(--fill-color);\n",
              "      border-left-color: var(--fill-color);\n",
              "    }\n",
              "    20% {\n",
              "      border-color: transparent;\n",
              "      border-left-color: var(--fill-color);\n",
              "      border-top-color: var(--fill-color);\n",
              "    }\n",
              "    30% {\n",
              "      border-color: transparent;\n",
              "      border-left-color: var(--fill-color);\n",
              "      border-top-color: var(--fill-color);\n",
              "      border-right-color: var(--fill-color);\n",
              "    }\n",
              "    40% {\n",
              "      border-color: transparent;\n",
              "      border-right-color: var(--fill-color);\n",
              "      border-top-color: var(--fill-color);\n",
              "    }\n",
              "    60% {\n",
              "      border-color: transparent;\n",
              "      border-right-color: var(--fill-color);\n",
              "    }\n",
              "    80% {\n",
              "      border-color: transparent;\n",
              "      border-right-color: var(--fill-color);\n",
              "      border-bottom-color: var(--fill-color);\n",
              "    }\n",
              "    90% {\n",
              "      border-color: transparent;\n",
              "      border-bottom-color: var(--fill-color);\n",
              "    }\n",
              "  }\n",
              "</style>\n",
              "\n",
              "  <script>\n",
              "    async function quickchart(key) {\n",
              "      const quickchartButtonEl =\n",
              "        document.querySelector('#' + key + ' button');\n",
              "      quickchartButtonEl.disabled = true;  // To prevent multiple clicks.\n",
              "      quickchartButtonEl.classList.add('colab-df-spinner');\n",
              "      try {\n",
              "        const charts = await google.colab.kernel.invokeFunction(\n",
              "            'suggestCharts', [key], {});\n",
              "      } catch (error) {\n",
              "        console.error('Error during call to suggestCharts:', error);\n",
              "      }\n",
              "      quickchartButtonEl.classList.remove('colab-df-spinner');\n",
              "      quickchartButtonEl.classList.add('colab-df-quickchart-complete');\n",
              "    }\n",
              "    (() => {\n",
              "      let quickchartButtonEl =\n",
              "        document.querySelector('#df-3c15761c-b933-4ae1-b532-4c4f4080ac21 button');\n",
              "      quickchartButtonEl.style.display =\n",
              "        google.colab.kernel.accessAllowed ? 'block' : 'none';\n",
              "    })();\n",
              "  </script>\n",
              "</div>\n",
              "\n",
              "    </div>\n",
              "  </div>\n"
            ],
            "application/vnd.google.colaboratory.intrinsic+json": {
              "type": "dataframe",
              "summary": "{\n  \"name\": \"stockdata\",\n  \"rows\": 8,\n  \"fields\": [\n    {\n      \"column\": \"open\",\n      \"properties\": {\n        \"dtype\": \"number\",\n        \"std\": 2329.1633532048318,\n        \"min\": 7.52,\n        \"max\": 6639.0,\n        \"num_unique_values\": 8,\n        \"samples\": [\n          52.02590450369031,\n          49.34,\n          6639.0\n        ],\n        \"semantic_type\": \"\",\n        \"description\": \"\"\n      }\n    },\n    {\n      \"column\": \"high\",\n      \"properties\": {\n        \"dtype\": \"number\",\n        \"std\": 2329.005832759325,\n        \"min\": 7.9,\n        \"max\": 6639.0,\n        \"num_unique_values\": 8,\n        \"samples\": [\n          52.605071546919724,\n          50.0,\n          6639.0\n        ],\n        \"semantic_type\": \"\",\n        \"description\": \"\"\n      }\n    },\n    {\n      \"column\": \"low\",\n      \"properties\": {\n        \"dtype\": \"number\",\n        \"std\": 2329.3825684711246,\n        \"min\": 7.06,\n        \"max\": 6639.0,\n        \"num_unique_values\": 8,\n        \"samples\": [\n          51.43839885524929,\n          48.66,\n          6639.0\n        ],\n        \"semantic_type\": \"\",\n        \"description\": \"\"\n      }\n    },\n    {\n      \"column\": \"close\",\n      \"properties\": {\n        \"dtype\": \"number\",\n        \"std\": 2329.1872329396147,\n        \"min\": 7.2,\n        \"max\": 6639.0,\n        \"num_unique_values\": 8,\n        \"samples\": [\n          52.03427172766983,\n          49.4,\n          6639.0\n        ],\n        \"semantic_type\": \"\",\n        \"description\": \"\"\n      }\n    },\n    {\n      \"column\": \"volume\",\n      \"properties\": {\n        \"dtype\": \"number\",\n        \"std\": 24436694.633188274,\n        \"min\": 300.0,\n        \"max\": 72344450.0,\n        \"num_unique_values\": 8,\n        \"samples\": [\n          5793768.167796355,\n          4693841.0,\n          6639.0\n        ],\n        \"semantic_type\": \"\",\n        \"description\": \"\"\n      }\n    }\n  ]\n}"
            }
          },
          "metadata": {},
          "execution_count": 18
        }
      ],
      "source": [
        "stockdata.describe()"
      ]
    },
    {
      "cell_type": "markdown",
      "source": [
        "Checking if there are any null values in the dataset"
      ],
      "metadata": {
        "id": "of_-RgOfVegR"
      }
    },
    {
      "cell_type": "code",
      "execution_count": 22,
      "metadata": {
        "colab": {
          "base_uri": "https://localhost:8080/"
        },
        "id": "3N3pf62Oou9x",
        "outputId": "eab598e1-048c-442a-e59b-bf92b7307443"
      },
      "outputs": [
        {
          "output_type": "execute_result",
          "data": {
            "text/plain": [
              "datetime    0\n",
              "open        0\n",
              "high        0\n",
              "low         0\n",
              "close       0\n",
              "volume      0\n",
              "dtype: int64"
            ]
          },
          "metadata": {},
          "execution_count": 22
        }
      ],
      "source": [
        "stockdata.isnull().sum()"
      ]
    },
    {
      "cell_type": "markdown",
      "source": [
        "To check for Catogrical variables"
      ],
      "metadata": {
        "id": "u_K8HuZ1W6it"
      }
    },
    {
      "cell_type": "code",
      "source": [
        "stockdata.nunique()"
      ],
      "metadata": {
        "colab": {
          "base_uri": "https://localhost:8080/"
        },
        "id": "gMJmwXlzWSjH",
        "outputId": "de984e78-f5b6-44a3-d402-28aade62336a"
      },
      "execution_count": 40,
      "outputs": [
        {
          "output_type": "execute_result",
          "data": {
            "text/plain": [
              "datetime    6639\n",
              "open        4356\n",
              "high        4370\n",
              "low         4301\n",
              "close       4417\n",
              "volume      6623\n",
              "dtype: int64"
            ]
          },
          "metadata": {},
          "execution_count": 40
        }
      ]
    },
    {
      "cell_type": "markdown",
      "source": [
        "Its clear from this that the dataset consists of only continuous data"
      ],
      "metadata": {
        "id": "JG4oPy-rWXT0"
      }
    },
    {
      "cell_type": "markdown",
      "source": [
        "Plotting histograms for all continuous variables to check if any of them is skewed."
      ],
      "metadata": {
        "id": "fNLY3yUoVIa3"
      }
    },
    {
      "cell_type": "code",
      "execution_count": 19,
      "metadata": {
        "colab": {
          "base_uri": "https://localhost:8080/",
          "height": 788
        },
        "id": "GiNEFPnFW852",
        "outputId": "760107b8-8e84-40e0-82bf-d5d8645d70bd"
      },
      "outputs": [
        {
          "output_type": "execute_result",
          "data": {
            "text/plain": [
              "array([[<Axes: title={'center': 'open'}>,\n",
              "        <Axes: title={'center': 'high'}>],\n",
              "       [<Axes: title={'center': 'close'}>,\n",
              "        <Axes: title={'center': 'volume'}>]], dtype=object)"
            ]
          },
          "metadata": {},
          "execution_count": 19
        },
        {
          "output_type": "display_data",
          "data": {
            "text/plain": [
              "<Figure size 1800x1000 with 4 Axes>"
            ],
            "image/png": "[encoded data removed]"
          },
          "metadata": {}
        }
      ],
      "source": [
        "#Plotting histogram for all continuous variables\n",
        "stockdata.hist(['open','high','close','volume'],figsize=(18,10))"
      ]
    },
    {
      "cell_type": "markdown",
      "metadata": {
        "id": "IVF6Xh4Fur2Q"
      },
      "source": [
        "As  we can there are some outliers in \"open\" and \"high\" so we will perform further analysis."
      ]
    },
    {
      "cell_type": "code",
      "execution_count": 20,
      "metadata": {
        "colab": {
          "base_uri": "https://localhost:8080/",
          "height": 428
        },
        "id": "pwyiJp2ItQ2v",
        "outputId": "b8c555c3-4360-42f6-a92a-f3f4b90148f6"
      },
      "outputs": [
        {
          "output_type": "execute_result",
          "data": {
            "text/plain": [
              "<Axes: ylabel='open'>"
            ]
          },
          "metadata": {},
          "execution_count": 20
        },
        {
          "output_type": "display_data",
          "data": {
            "text/plain": [
              "<Figure size 640x480 with 1 Axes>"
            ],
            "image/png": "[encoded data removed]"
          },
          "metadata": {}
        }
      ],
      "source": [
        "import seaborn as sns\n",
        "sns.boxplot(stockdata['open'])"
      ]
    },
    {
      "cell_type": "code",
      "execution_count": 21,
      "metadata": {
        "colab": {
          "base_uri": "https://localhost:8080/",
          "height": 428
        },
        "id": "eq8j6ThfvO4w",
        "outputId": "a82644ce-78b7-4651-a86f-b224aab74169"
      },
      "outputs": [
        {
          "output_type": "stream",
          "name": "stdout",
          "text": [
            "Axes(0.125,0.11;0.775x0.77)\n"
          ]
        },
        {
          "output_type": "display_data",
          "data": {
            "text/plain": [
              "<Figure size 640x480 with 1 Axes>"
            ],
            "image/png": "[encoded data removed]"
          },
          "metadata": {}
        }
      ],
      "source": [
        "print(sns.boxplot(stockdata['high']))"
      ]
    },
    {
      "cell_type": "markdown",
      "metadata": {
        "id": "xu9qMf2svo5I"
      },
      "source": [
        "The amount of outlier was insignificant to the number of data available, therefore it didn't show up in the boxplot."
      ]
    },
    {
      "cell_type": "markdown",
      "source": [
        "When the Target variable is continuous and the predictor is also continuous, we can visualize the relationship between the two variables using scatter plot and measure the strength of relation using a metric called pearson's correlation value"
      ],
      "metadata": {
        "id": "O3TMx_4qXorT"
      }
    },
    {
      "cell_type": "code",
      "execution_count": 23,
      "metadata": {
        "colab": {
          "base_uri": "https://localhost:8080/",
          "height": 1000
        },
        "id": "30nsK7WewOVz",
        "outputId": "a74ce51c-948e-43eb-bb69-60ed112a393d"
      },
      "outputs": [
        {
          "output_type": "display_data",
          "data": {
            "text/plain": [
              "<Figure size 1000x500 with 1 Axes>"
            ],
            "image/png": "[encoded data removed]"
          },
          "metadata": {}
        },
        {
          "output_type": "display_data",
          "data": {
            "text/plain": [
              "<Figure size 1000x500 with 1 Axes>"
            ],
            "image/png": "[encoded data removed]"
          },
          "metadata": {}
        },
        {
          "output_type": "display_data",
          "data": {
            "text/plain": [
              "<Figure size 1000x500 with 1 Axes>"
            ],
            "image/png": "[encoded data removed]"
          },
          "metadata": {}
        },
        {
          "output_type": "display_data",
          "data": {
            "text/plain": [
              "<Figure size 1000x500 with 1 Axes>"
            ],
            "image/png": "[encoded data removed]"
          },
          "metadata": {}
        }
      ],
      "source": [
        "ConCols= ['open','high','low','volume']\n",
        "for pred in ConCols:\n",
        "  stockdata.plot.scatter(x=pred , y = 'close', figsize=(10,5), title=pred+\" vs close\")"
      ]
    },
    {
      "cell_type": "code",
      "execution_count": 24,
      "metadata": {
        "colab": {
          "base_uri": "https://localhost:8080/",
          "height": 310
        },
        "id": "zGC__yxEyImC",
        "outputId": "872282dd-a69b-4dff-e875-91fe3167bdc0"
      },
      "outputs": [
        {
          "output_type": "stream",
          "name": "stdout",
          "text": [
            "    datetime   open   high    low  close   volume\n",
            "0 1998-02-01  38.38  38.63  37.31  37.50   594000\n",
            "1 1998-05-01  37.63  37.78  36.75  37.13   644000\n",
            "2 1998-06-01  37.13  37.38  35.56  35.63  1183300\n",
            "3 1998-07-01  35.50  36.44  34.25  34.69  2039005\n",
            "4 1998-08-01  34.56  36.01  34.00  35.76  1638105\n"
          ]
        },
        {
          "output_type": "execute_result",
          "data": {
            "text/plain": [
              "           close      open      high       low    volume\n",
              "close   1.000000  0.999524  0.999770  0.999762 -0.191477\n",
              "open    0.999524  1.000000  0.999763  0.999742 -0.191927\n",
              "high    0.999770  0.999763  1.000000  0.999640 -0.189593\n",
              "low     0.999762  0.999742  0.999640  1.000000 -0.194200\n",
              "volume -0.191477 -0.191927 -0.189593 -0.194200  1.000000"
            ],
            "text/html": [
              "\n",
              "  <div id=\"df-34d0e844-7e2c-49b6-9870-ee0cfd3d08bb\" class=\"colab-df-container\">\n",
              "    <div>\n",
              "<style scoped>\n",
              "    .dataframe tbody tr th:only-of-type {\n",
              "        vertical-align: middle;\n",
              "    }\n",
              "\n",
              "    .dataframe tbody tr th {\n",
              "        vertical-align: top;\n",
              "    }\n",
              "\n",
              "    .dataframe thead th {\n",
              "        text-align: right;\n",
              "    }\n",
              "</style>\n",
              "<table border=\"1\" class=\"dataframe\">\n",
              "  <thead>\n",
              "    <tr style=\"text-align: right;\">\n",
              "      <th></th>\n",
              "      <th>close</th>\n",
              "      <th>open</th>\n",
              "      <th>high</th>\n",
              "      <th>low</th>\n",
              "      <th>volume</th>\n",
              "    </tr>\n",
              "  </thead>\n",
              "  <tbody>\n",
              "    <tr>\n",
              "      <th>close</th>\n",
              "      <td>1.000000</td>\n",
              "      <td>0.999524</td>\n",
              "      <td>0.999770</td>\n",
              "      <td>0.999762</td>\n",
              "      <td>-0.191477</td>\n",
              "    </tr>\n",
              "    <tr>\n",
              "      <th>open</th>\n",
              "      <td>0.999524</td>\n",
              "      <td>1.000000</td>\n",
              "      <td>0.999763</td>\n",
              "      <td>0.999742</td>\n",
              "      <td>-0.191927</td>\n",
              "    </tr>\n",
              "    <tr>\n",
              "      <th>high</th>\n",
              "      <td>0.999770</td>\n",
              "      <td>0.999763</td>\n",
              "      <td>1.000000</td>\n",
              "      <td>0.999640</td>\n",
              "      <td>-0.189593</td>\n",
              "    </tr>\n",
              "    <tr>\n",
              "      <th>low</th>\n",
              "      <td>0.999762</td>\n",
              "      <td>0.999742</td>\n",
              "      <td>0.999640</td>\n",
              "      <td>1.000000</td>\n",
              "      <td>-0.194200</td>\n",
              "    </tr>\n",
              "    <tr>\n",
              "      <th>volume</th>\n",
              "      <td>-0.191477</td>\n",
              "      <td>-0.191927</td>\n",
              "      <td>-0.189593</td>\n",
              "      <td>-0.194200</td>\n",
              "      <td>1.000000</td>\n",
              "    </tr>\n",
              "  </tbody>\n",
              "</table>\n",
              "</div>\n",
              "    <div class=\"colab-df-buttons\">\n",
              "\n",
              "  <div class=\"colab-df-container\">\n",
              "    <button class=\"colab-df-convert\" onclick=\"convertToInteractive('df-34d0e844-7e2c-49b6-9870-ee0cfd3d08bb')\"\n",
              "            title=\"Convert this dataframe to an interactive table.\"\n",
              "            style=\"display:none;\">\n",
              "\n",
              "  <svg xmlns=\"http://www.w3.org/2000/svg\" height=\"24px\" viewBox=\"0 -960 960 960\">\n",
              "    <path d=\"M120-120v-720h720v720H120Zm60-500h600v-160H180v160Zm220 220h160v-160H400v160Zm0 220h160v-160H400v160ZM180-400h160v-160H180v160Zm440 0h160v-160H620v160ZM180-180h160v-160H180v160Zm440 0h160v-160H620v160Z\"/>\n",
              "  </svg>\n",
              "    </button>\n",
              "\n",
              "  <style>\n",
              "    .colab-df-container {\n",
              "      display:flex;\n",
              "      gap: 12px;\n",
              "    }\n",
              "\n",
              "    .colab-df-convert {\n",
              "      background-color: #E8F0FE;\n",
              "      border: none;\n",
              "      border-radius: 50%;\n",
              "      cursor: pointer;\n",
              "      display: none;\n",
              "      fill: #1967D2;\n",
              "      height: 32px;\n",
              "      padding: 0 0 0 0;\n",
              "      width: 32px;\n",
              "    }\n",
              "\n",
              "    .colab-df-convert:hover {\n",
              "      background-color: #E2EBFA;\n",
              "      box-shadow: 0px 1px 2px rgba(60, 64, 67, 0.3), 0px 1px 3px 1px rgba(60, 64, 67, 0.15);\n",
              "      fill: #174EA6;\n",
              "    }\n",
              "\n",
              "    .colab-df-buttons div {\n",
              "      margin-bottom: 4px;\n",
              "    }\n",
              "\n",
              "    [theme=dark] .colab-df-convert {\n",
              "      background-color: #3B4455;\n",
              "      fill: #D2E3FC;\n",
              "    }\n",
              "\n",
              "    [theme=dark] .colab-df-convert:hover {\n",
              "      background-color: #434B5C;\n",
              "      box-shadow: 0px 1px 3px 1px rgba(0, 0, 0, 0.15);\n",
              "      filter: drop-shadow(0px 1px 2px rgba(0, 0, 0, 0.3));\n",
              "      fill: #FFFFFF;\n",
              "    }\n",
              "  </style>\n",
              "\n",
              "    <script>\n",
              "      const buttonEl =\n",
              "        document.querySelector('#df-34d0e844-7e2c-49b6-9870-ee0cfd3d08bb button.colab-df-convert');\n",
              "      buttonEl.style.display =\n",
              "        google.colab.kernel.accessAllowed ? 'block' : 'none';\n",
              "\n",
              "      async function convertToInteractive(key) {\n",
              "        const element = document.querySelector('#df-34d0e844-7e2c-49b6-9870-ee0cfd3d08bb');\n",
              "        const dataTable =\n",
              "          await google.colab.kernel.invokeFunction('convertToInteractive',\n",
              "                                                    [key], {});\n",
              "        if (!dataTable) return;\n",
              "\n",
              "        const docLinkHtml = 'Like what you see? Visit the ' +\n",
              "          '<a target=\"_blank\" href=https://colab.research.google.com/notebooks/data_table.ipynb>data table notebook</a>'\n",
              "          + ' to learn more about interactive tables.';\n",
              "        element.innerHTML = '';\n",
              "        dataTable['output_type'] = 'display_data';\n",
              "        await google.colab.output.renderOutput(dataTable, element);\n",
              "        const docLink = document.createElement('div');\n",
              "        docLink.innerHTML = docLinkHtml;\n",
              "        element.appendChild(docLink);\n",
              "      }\n",
              "    </script>\n",
              "  </div>\n",
              "\n",
              "\n",
              "<div id=\"df-e1f5e761-b503-4062-9f45-ef5ef957686b\">\n",
              "  <button class=\"colab-df-quickchart\" onclick=\"quickchart('df-e1f5e761-b503-4062-9f45-ef5ef957686b')\"\n",
              "            title=\"Suggest charts\"\n",
              "            style=\"display:none;\">\n",
              "\n",
              "<svg xmlns=\"http://www.w3.org/2000/svg\" height=\"24px\"viewBox=\"0 0 24 24\"\n",
              "     width=\"24px\">\n",
              "    <g>\n",
              "        <path d=\"M19 3H5c-1.1 0-2 .9-2 2v14c0 1.1.9 2 2 2h14c1.1 0 2-.9 2-2V5c0-1.1-.9-2-2-2zM9 17H7v-7h2v7zm4 0h-2V7h2v10zm4 0h-2v-4h2v4z\"/>\n",
              "    </g>\n",
              "</svg>\n",
              "  </button>\n",
              "\n",
              "<style>\n",
              "  .colab-df-quickchart {\n",
              "      --bg-color: #E8F0FE;\n",
              "      --fill-color: #1967D2;\n",
              "      --hover-bg-color: #E2EBFA;\n",
              "      --hover-fill-color: #174EA6;\n",
              "      --disabled-fill-color: #AAA;\n",
              "      --disabled-bg-color: #DDD;\n",
              "  }\n",
              "\n",
              "  [theme=dark] .colab-df-quickchart {\n",
              "      --bg-color: #3B4455;\n",
              "      --fill-color: #D2E3FC;\n",
              "      --hover-bg-color: #434B5C;\n",
              "      --hover-fill-color: #FFFFFF;\n",
              "      --disabled-bg-color: #3B4455;\n",
              "      --disabled-fill-color: #666;\n",
              "  }\n",
              "\n",
              "  .colab-df-quickchart {\n",
              "    background-color: var(--bg-color);\n",
              "    border: none;\n",
              "    border-radius: 50%;\n",
              "    cursor: pointer;\n",
              "    display: none;\n",
              "    fill: var(--fill-color);\n",
              "    height: 32px;\n",
              "    padding: 0;\n",
              "    width: 32px;\n",
              "  }\n",
              "\n",
              "  .colab-df-quickchart:hover {\n",
              "    background-color: var(--hover-bg-color);\n",
              "    box-shadow: 0 1px 2px rgba(60, 64, 67, 0.3), 0 1px 3px 1px rgba(60, 64, 67, 0.15);\n",
              "    fill: var(--button-hover-fill-color);\n",
              "  }\n",
              "\n",
              "  .colab-df-quickchart-complete:disabled,\n",
              "  .colab-df-quickchart-complete:disabled:hover {\n",
              "    background-color: var(--disabled-bg-color);\n",
              "    fill: var(--disabled-fill-color);\n",
              "    box-shadow: none;\n",
              "  }\n",
              "\n",
              "  .colab-df-spinner {\n",
              "    border: 2px solid var(--fill-color);\n",
              "    border-color: transparent;\n",
              "    border-bottom-color: var(--fill-color);\n",
              "    animation:\n",
              "      spin 1s steps(1) infinite;\n",
              "  }\n",
              "\n",
              "  @keyframes spin {\n",
              "    0% {\n",
              "      border-color: transparent;\n",
              "      border-bottom-color: var(--fill-color);\n",
              "      border-left-color: var(--fill-color);\n",
              "    }\n",
              "    20% {\n",
              "      border-color: transparent;\n",
              "      border-left-color: var(--fill-color);\n",
              "      border-top-color: var(--fill-color);\n",
              "    }\n",
              "    30% {\n",
              "      border-color: transparent;\n",
              "      border-left-color: var(--fill-color);\n",
              "      border-top-color: var(--fill-color);\n",
              "      border-right-color: var(--fill-color);\n",
              "    }\n",
              "    40% {\n",
              "      border-color: transparent;\n",
              "      border-right-color: var(--fill-color);\n",
              "      border-top-color: var(--fill-color);\n",
              "    }\n",
              "    60% {\n",
              "      border-color: transparent;\n",
              "      border-right-color: var(--fill-color);\n",
              "    }\n",
              "    80% {\n",
              "      border-color: transparent;\n",
              "      border-right-color: var(--fill-color);\n",
              "      border-bottom-color: var(--fill-color);\n",
              "    }\n",
              "    90% {\n",
              "      border-color: transparent;\n",
              "      border-bottom-color: var(--fill-color);\n",
              "    }\n",
              "  }\n",
              "</style>\n",
              "\n",
              "  <script>\n",
              "    async function quickchart(key) {\n",
              "      const quickchartButtonEl =\n",
              "        document.querySelector('#' + key + ' button');\n",
              "      quickchartButtonEl.disabled = true;  // To prevent multiple clicks.\n",
              "      quickchartButtonEl.classList.add('colab-df-spinner');\n",
              "      try {\n",
              "        const charts = await google.colab.kernel.invokeFunction(\n",
              "            'suggestCharts', [key], {});\n",
              "      } catch (error) {\n",
              "        console.error('Error during call to suggestCharts:', error);\n",
              "      }\n",
              "      quickchartButtonEl.classList.remove('colab-df-spinner');\n",
              "      quickchartButtonEl.classList.add('colab-df-quickchart-complete');\n",
              "    }\n",
              "    (() => {\n",
              "      let quickchartButtonEl =\n",
              "        document.querySelector('#df-e1f5e761-b503-4062-9f45-ef5ef957686b button');\n",
              "      quickchartButtonEl.style.display =\n",
              "        google.colab.kernel.accessAllowed ? 'block' : 'none';\n",
              "    })();\n",
              "  </script>\n",
              "</div>\n",
              "\n",
              "  <div id=\"id_2b621dd8-5d5e-42a3-ba48-8fc382197d32\">\n",
              "    <style>\n",
              "      .colab-df-generate {\n",
              "        background-color: #E8F0FE;\n",
              "        border: none;\n",
              "        border-radius: 50%;\n",
              "        cursor: pointer;\n",
              "        display: none;\n",
              "        fill: #1967D2;\n",
              "        height: 32px;\n",
              "        padding: 0 0 0 0;\n",
              "        width: 32px;\n",
              "      }\n",
              "\n",
              "      .colab-df-generate:hover {\n",
              "        background-color: #E2EBFA;\n",
              "        box-shadow: 0px 1px 2px rgba(60, 64, 67, 0.3), 0px 1px 3px 1px rgba(60, 64, 67, 0.15);\n",
              "        fill: #174EA6;\n",
              "      }\n",
              "\n",
              "      [theme=dark] .colab-df-generate {\n",
              "        background-color: #3B4455;\n",
              "        fill: #D2E3FC;\n",
              "      }\n",
              "\n",
              "      [theme=dark] .colab-df-generate:hover {\n",
              "        background-color: #434B5C;\n",
              "        box-shadow: 0px 1px 3px 1px rgba(0, 0, 0, 0.15);\n",
              "        filter: drop-shadow(0px 1px 2px rgba(0, 0, 0, 0.3));\n",
              "        fill: #FFFFFF;\n",
              "      }\n",
              "    </style>\n",
              "    <button class=\"colab-df-generate\" onclick=\"generateWithVariable('Corelation_Data')\"\n",
              "            title=\"Generate code using this dataframe.\"\n",
              "            style=\"display:none;\">\n",
              "\n",
              "  <svg xmlns=\"http://www.w3.org/2000/svg\" height=\"24px\"viewBox=\"0 0 24 24\"\n",
              "       width=\"24px\">\n",
              "    <path d=\"M7,19H8.4L18.45,9,17,7.55,7,17.6ZM5,21V16.75L18.45,3.32a2,2,0,0,1,2.83,0l1.4,1.43a1.91,1.91,0,0,1,.58,1.4,1.91,1.91,0,0,1-.58,1.4L9.25,21ZM18.45,9,17,7.55Zm-12,3A5.31,5.31,0,0,0,4.9,8.1,5.31,5.31,0,0,0,1,6.5,5.31,5.31,0,0,0,4.9,4.9,5.31,5.31,0,0,0,6.5,1,5.31,5.31,0,0,0,8.1,4.9,5.31,5.31,0,0,0,12,6.5,5.46,5.46,0,0,0,6.5,12Z\"/>\n",
              "  </svg>\n",
              "    </button>\n",
              "    <script>\n",
              "      (() => {\n",
              "      const buttonEl =\n",
              "        document.querySelector('#id_2b621dd8-5d5e-42a3-ba48-8fc382197d32 button.colab-df-generate');\n",
              "      buttonEl.style.display =\n",
              "        google.colab.kernel.accessAllowed ? 'block' : 'none';\n",
              "\n",
              "      buttonEl.onclick = () => {\n",
              "        google.colab.notebook.generateWithVariable('Corelation_Data');\n",
              "      }\n",
              "      })();\n",
              "    </script>\n",
              "  </div>\n",
              "\n",
              "    </div>\n",
              "  </div>\n"
            ],
            "application/vnd.google.colaboratory.intrinsic+json": {
              "type": "dataframe",
              "variable_name": "Corelation_Data",
              "summary": "{\n  \"name\": \"Corelation_Data\",\n  \"rows\": 5,\n  \"fields\": [\n    {\n      \"column\": \"close\",\n      \"properties\": {\n        \"dtype\": \"number\",\n        \"std\": 0.5327390987600994,\n        \"min\": -0.1914767582105867,\n        \"max\": 1.0,\n        \"num_unique_values\": 5,\n        \"samples\": [\n          0.9995244235327626,\n          -0.1914767582105867,\n          0.9997700147471796\n        ],\n        \"semantic_type\": \"\",\n        \"description\": \"\"\n      }\n    },\n    {\n      \"column\": \"open\",\n      \"properties\": {\n        \"dtype\": \"number\",\n        \"std\": 0.5329376357274194,\n        \"min\": -0.19192743640191864,\n        \"max\": 1.0,\n        \"num_unique_values\": 5,\n        \"samples\": [\n          1.0,\n          -0.19192743640191864,\n          0.9997631379622707\n        ],\n        \"semantic_type\": \"\",\n        \"description\": \"\"\n      }\n    },\n    {\n      \"column\": \"high\",\n      \"properties\": {\n        \"dtype\": \"number\",\n        \"std\": 0.5319099207968487,\n        \"min\": -0.18959332992212324,\n        \"max\": 1.0,\n        \"num_unique_values\": 5,\n        \"samples\": [\n          0.9997631379622707,\n          -0.18959332992212324,\n          1.0\n        ],\n        \"semantic_type\": \"\",\n        \"description\": \"\"\n      }\n    },\n    {\n      \"column\": \"low\",\n      \"properties\": {\n        \"dtype\": \"number\",\n        \"std\": 0.5339665799598469,\n        \"min\": -0.19419963992414488,\n        \"max\": 1.0,\n        \"num_unique_values\": 5,\n        \"samples\": [\n          0.9997415799834877,\n          -0.19419963992414488,\n          0.9996403488063482\n        ],\n        \"semantic_type\": \"\",\n        \"description\": \"\"\n      }\n    },\n    {\n      \"column\": \"volume\",\n      \"properties\": {\n        \"dtype\": \"number\",\n        \"std\": 0.5329913668693583,\n        \"min\": -0.19419963992414488,\n        \"max\": 1.0,\n        \"num_unique_values\": 5,\n        \"samples\": [\n          -0.19192743640191864,\n          1.0,\n          -0.18959332992212324\n        ],\n        \"semantic_type\": \"\",\n        \"description\": \"\"\n      }\n    }\n  ]\n}"
            }
          },
          "metadata": {},
          "execution_count": 24
        }
      ],
      "source": [
        "Cols=['close','open','high','low','volume']\n",
        "Corelation_Data= stockdata[Cols].corr()\n",
        "print(stockdata.head())\n",
        "Corelation_Data"
      ]
    },
    {
      "cell_type": "markdown",
      "metadata": {
        "id": "P0aSOSIMzb6r"
      },
      "source": [
        "The \"volume\" variable has very low corelation value so it will not be considered while developing our machine learning model."
      ]
    },
    {
      "cell_type": "code",
      "execution_count": 25,
      "metadata": {
        "colab": {
          "base_uri": "https://localhost:8080/",
          "height": 206
        },
        "id": "HZes1bItB2th",
        "outputId": "9d5ca04b-0afa-4456-c5ca-556fccdca786"
      },
      "outputs": [
        {
          "output_type": "execute_result",
          "data": {
            "text/plain": [
              "    open   high    low  close\n",
              "0  38.38  38.63  37.31  37.50\n",
              "1  37.63  37.78  36.75  37.13\n",
              "2  37.13  37.38  35.56  35.63\n",
              "3  35.50  36.44  34.25  34.69\n",
              "4  34.56  36.01  34.00  35.76"
            ],
            "text/html": [
              "\n",
              "  <div id=\"df-d207cbb7-de54-40d9-9b89-e2e610b96beb\" class=\"colab-df-container\">\n",
              "    <div>\n",
              "<style scoped>\n",
              "    .dataframe tbody tr th:only-of-type {\n",
              "        vertical-align: middle;\n",
              "    }\n",
              "\n",
              "    .dataframe tbody tr th {\n",
              "        vertical-align: top;\n",
              "    }\n",
              "\n",
              "    .dataframe thead th {\n",
              "        text-align: right;\n",
              "    }\n",
              "</style>\n",
              "<table border=\"1\" class=\"dataframe\">\n",
              "  <thead>\n",
              "    <tr style=\"text-align: right;\">\n",
              "      <th></th>\n",
              "      <th>open</th>\n",
              "      <th>high</th>\n",
              "      <th>low</th>\n",
              "      <th>close</th>\n",
              "    </tr>\n",
              "  </thead>\n",
              "  <tbody>\n",
              "    <tr>\n",
              "      <th>0</th>\n",
              "      <td>38.38</td>\n",
              "      <td>38.63</td>\n",
              "      <td>37.31</td>\n",
              "      <td>37.50</td>\n",
              "    </tr>\n",
              "    <tr>\n",
              "      <th>1</th>\n",
              "      <td>37.63</td>\n",
              "      <td>37.78</td>\n",
              "      <td>36.75</td>\n",
              "      <td>37.13</td>\n",
              "    </tr>\n",
              "    <tr>\n",
              "      <th>2</th>\n",
              "      <td>37.13</td>\n",
              "      <td>37.38</td>\n",
              "      <td>35.56</td>\n",
              "      <td>35.63</td>\n",
              "    </tr>\n",
              "    <tr>\n",
              "      <th>3</th>\n",
              "      <td>35.50</td>\n",
              "      <td>36.44</td>\n",
              "      <td>34.25</td>\n",
              "      <td>34.69</td>\n",
              "    </tr>\n",
              "    <tr>\n",
              "      <th>4</th>\n",
              "      <td>34.56</td>\n",
              "      <td>36.01</td>\n",
              "      <td>34.00</td>\n",
              "      <td>35.76</td>\n",
              "    </tr>\n",
              "  </tbody>\n",
              "</table>\n",
              "</div>\n",
              "    <div class=\"colab-df-buttons\">\n",
              "\n",
              "  <div class=\"colab-df-container\">\n",
              "    <button class=\"colab-df-convert\" onclick=\"convertToInteractive('df-d207cbb7-de54-40d9-9b89-e2e610b96beb')\"\n",
              "            title=\"Convert this dataframe to an interactive table.\"\n",
              "            style=\"display:none;\">\n",
              "\n",
              "  <svg xmlns=\"http://www.w3.org/2000/svg\" height=\"24px\" viewBox=\"0 -960 960 960\">\n",
              "    <path d=\"M120-120v-720h720v720H120Zm60-500h600v-160H180v160Zm220 220h160v-160H400v160Zm0 220h160v-160H400v160ZM180-400h160v-160H180v160Zm440 0h160v-160H620v160ZM180-180h160v-160H180v160Zm440 0h160v-160H620v160Z\"/>\n",
              "  </svg>\n",
              "    </button>\n",
              "\n",
              "  <style>\n",
              "    .colab-df-container {\n",
              "      display:flex;\n",
              "      gap: 12px;\n",
              "    }\n",
              "\n",
              "    .colab-df-convert {\n",
              "      background-color: #E8F0FE;\n",
              "      border: none;\n",
              "      border-radius: 50%;\n",
              "      cursor: pointer;\n",
              "      display: none;\n",
              "      fill: #1967D2;\n",
              "      height: 32px;\n",
              "      padding: 0 0 0 0;\n",
              "      width: 32px;\n",
              "    }\n",
              "\n",
              "    .colab-df-convert:hover {\n",
              "      background-color: #E2EBFA;\n",
              "      box-shadow: 0px 1px 2px rgba(60, 64, 67, 0.3), 0px 1px 3px 1px rgba(60, 64, 67, 0.15);\n",
              "      fill: #174EA6;\n",
              "    }\n",
              "\n",
              "    .colab-df-buttons div {\n",
              "      margin-bottom: 4px;\n",
              "    }\n",
              "\n",
              "    [theme=dark] .colab-df-convert {\n",
              "      background-color: #3B4455;\n",
              "      fill: #D2E3FC;\n",
              "    }\n",
              "\n",
              "    [theme=dark] .colab-df-convert:hover {\n",
              "      background-color: #434B5C;\n",
              "      box-shadow: 0px 1px 3px 1px rgba(0, 0, 0, 0.15);\n",
              "      filter: drop-shadow(0px 1px 2px rgba(0, 0, 0, 0.3));\n",
              "      fill: #FFFFFF;\n",
              "    }\n",
              "  </style>\n",
              "\n",
              "    <script>\n",
              "      const buttonEl =\n",
              "        document.querySelector('#df-d207cbb7-de54-40d9-9b89-e2e610b96beb button.colab-df-convert');\n",
              "      buttonEl.style.display =\n",
              "        google.colab.kernel.accessAllowed ? 'block' : 'none';\n",
              "\n",
              "      async function convertToInteractive(key) {\n",
              "        const element = document.querySelector('#df-d207cbb7-de54-40d9-9b89-e2e610b96beb');\n",
              "        const dataTable =\n",
              "          await google.colab.kernel.invokeFunction('convertToInteractive',\n",
              "                                                    [key], {});\n",
              "        if (!dataTable) return;\n",
              "\n",
              "        const docLinkHtml = 'Like what you see? Visit the ' +\n",
              "          '<a target=\"_blank\" href=https://colab.research.google.com/notebooks/data_table.ipynb>data table notebook</a>'\n",
              "          + ' to learn more about interactive tables.';\n",
              "        element.innerHTML = '';\n",
              "        dataTable['output_type'] = 'display_data';\n",
              "        await google.colab.output.renderOutput(dataTable, element);\n",
              "        const docLink = document.createElement('div');\n",
              "        docLink.innerHTML = docLinkHtml;\n",
              "        element.appendChild(docLink);\n",
              "      }\n",
              "    </script>\n",
              "  </div>\n",
              "\n",
              "\n",
              "<div id=\"df-16424bad-01e3-48ba-8a18-84df15410d5e\">\n",
              "  <button class=\"colab-df-quickchart\" onclick=\"quickchart('df-16424bad-01e3-48ba-8a18-84df15410d5e')\"\n",
              "            title=\"Suggest charts\"\n",
              "            style=\"display:none;\">\n",
              "\n",
              "<svg xmlns=\"http://www.w3.org/2000/svg\" height=\"24px\"viewBox=\"0 0 24 24\"\n",
              "     width=\"24px\">\n",
              "    <g>\n",
              "        <path d=\"M19 3H5c-1.1 0-2 .9-2 2v14c0 1.1.9 2 2 2h14c1.1 0 2-.9 2-2V5c0-1.1-.9-2-2-2zM9 17H7v-7h2v7zm4 0h-2V7h2v10zm4 0h-2v-4h2v4z\"/>\n",
              "    </g>\n",
              "</svg>\n",
              "  </button>\n",
              "\n",
              "<style>\n",
              "  .colab-df-quickchart {\n",
              "      --bg-color: #E8F0FE;\n",
              "      --fill-color: #1967D2;\n",
              "      --hover-bg-color: #E2EBFA;\n",
              "      --hover-fill-color: #174EA6;\n",
              "      --disabled-fill-color: #AAA;\n",
              "      --disabled-bg-color: #DDD;\n",
              "  }\n",
              "\n",
              "  [theme=dark] .colab-df-quickchart {\n",
              "      --bg-color: #3B4455;\n",
              "      --fill-color: #D2E3FC;\n",
              "      --hover-bg-color: #434B5C;\n",
              "      --hover-fill-color: #FFFFFF;\n",
              "      --disabled-bg-color: #3B4455;\n",
              "      --disabled-fill-color: #666;\n",
              "  }\n",
              "\n",
              "  .colab-df-quickchart {\n",
              "    background-color: var(--bg-color);\n",
              "    border: none;\n",
              "    border-radius: 50%;\n",
              "    cursor: pointer;\n",
              "    display: none;\n",
              "    fill: var(--fill-color);\n",
              "    height: 32px;\n",
              "    padding: 0;\n",
              "    width: 32px;\n",
              "  }\n",
              "\n",
              "  .colab-df-quickchart:hover {\n",
              "    background-color: var(--hover-bg-color);\n",
              "    box-shadow: 0 1px 2px rgba(60, 64, 67, 0.3), 0 1px 3px 1px rgba(60, 64, 67, 0.15);\n",
              "    fill: var(--button-hover-fill-color);\n",
              "  }\n",
              "\n",
              "  .colab-df-quickchart-complete:disabled,\n",
              "  .colab-df-quickchart-complete:disabled:hover {\n",
              "    background-color: var(--disabled-bg-color);\n",
              "    fill: var(--disabled-fill-color);\n",
              "    box-shadow: none;\n",
              "  }\n",
              "\n",
              "  .colab-df-spinner {\n",
              "    border: 2px solid var(--fill-color);\n",
              "    border-color: transparent;\n",
              "    border-bottom-color: var(--fill-color);\n",
              "    animation:\n",
              "      spin 1s steps(1) infinite;\n",
              "  }\n",
              "\n",
              "  @keyframes spin {\n",
              "    0% {\n",
              "      border-color: transparent;\n",
              "      border-bottom-color: var(--fill-color);\n",
              "      border-left-color: var(--fill-color);\n",
              "    }\n",
              "    20% {\n",
              "      border-color: transparent;\n",
              "      border-left-color: var(--fill-color);\n",
              "      border-top-color: var(--fill-color);\n",
              "    }\n",
              "    30% {\n",
              "      border-color: transparent;\n",
              "      border-left-color: var(--fill-color);\n",
              "      border-top-color: var(--fill-color);\n",
              "      border-right-color: var(--fill-color);\n",
              "    }\n",
              "    40% {\n",
              "      border-color: transparent;\n",
              "      border-right-color: var(--fill-color);\n",
              "      border-top-color: var(--fill-color);\n",
              "    }\n",
              "    60% {\n",
              "      border-color: transparent;\n",
              "      border-right-color: var(--fill-color);\n",
              "    }\n",
              "    80% {\n",
              "      border-color: transparent;\n",
              "      border-right-color: var(--fill-color);\n",
              "      border-bottom-color: var(--fill-color);\n",
              "    }\n",
              "    90% {\n",
              "      border-color: transparent;\n",
              "      border-bottom-color: var(--fill-color);\n",
              "    }\n",
              "  }\n",
              "</style>\n",
              "\n",
              "  <script>\n",
              "    async function quickchart(key) {\n",
              "      const quickchartButtonEl =\n",
              "        document.querySelector('#' + key + ' button');\n",
              "      quickchartButtonEl.disabled = true;  // To prevent multiple clicks.\n",
              "      quickchartButtonEl.classList.add('colab-df-spinner');\n",
              "      try {\n",
              "        const charts = await google.colab.kernel.invokeFunction(\n",
              "            'suggestCharts', [key], {});\n",
              "      } catch (error) {\n",
              "        console.error('Error during call to suggestCharts:', error);\n",
              "      }\n",
              "      quickchartButtonEl.classList.remove('colab-df-spinner');\n",
              "      quickchartButtonEl.classList.add('colab-df-quickchart-complete');\n",
              "    }\n",
              "    (() => {\n",
              "      let quickchartButtonEl =\n",
              "        document.querySelector('#df-16424bad-01e3-48ba-8a18-84df15410d5e button');\n",
              "      quickchartButtonEl.style.display =\n",
              "        google.colab.kernel.accessAllowed ? 'block' : 'none';\n",
              "    })();\n",
              "  </script>\n",
              "</div>\n",
              "\n",
              "    </div>\n",
              "  </div>\n"
            ],
            "application/vnd.google.colaboratory.intrinsic+json": {
              "type": "dataframe",
              "variable_name": "DatasetFinal",
              "summary": "{\n  \"name\": \"DatasetFinal\",\n  \"rows\": 6639,\n  \"fields\": [\n    {\n      \"column\": \"open\",\n      \"properties\": {\n        \"dtype\": \"number\",\n        \"std\": 27.16186996481383,\n        \"min\": 7.52,\n        \"max\": 126.08,\n        \"num_unique_values\": 4356,\n        \"samples\": [\n          11.54,\n          30.78,\n          17.92\n        ],\n        \"semantic_type\": \"\",\n        \"description\": \"\"\n      }\n    },\n    {\n      \"column\": \"high\",\n      \"properties\": {\n        \"dtype\": \"number\",\n        \"std\": 27.312972088582608,\n        \"min\": 7.9,\n        \"max\": 126.32,\n        \"num_unique_values\": 4370,\n        \"samples\": [\n          103.09,\n          58.93,\n          60.51\n        ],\n        \"semantic_type\": \"\",\n        \"description\": \"\"\n      }\n    },\n    {\n      \"column\": \"low\",\n      \"properties\": {\n        \"dtype\": \"number\",\n        \"std\": 26.994024927447267,\n        \"min\": 7.06,\n        \"max\": 124.81,\n        \"num_unique_values\": 4301,\n        \"samples\": [\n          22.5,\n          93.04,\n          37.14\n        ],\n        \"semantic_type\": \"\",\n        \"description\": \"\"\n      }\n    },\n    {\n      \"column\": \"close\",\n      \"properties\": {\n        \"dtype\": \"number\",\n        \"std\": 27.155433894620288,\n        \"min\": 7.2,\n        \"max\": 126.06,\n        \"num_unique_values\": 4417,\n        \"samples\": [\n          27.33,\n          33.95,\n          100.12\n        ],\n        \"semantic_type\": \"\",\n        \"description\": \"\"\n      }\n    }\n  ]\n}"
            }
          },
          "metadata": {},
          "execution_count": 25
        }
      ],
      "source": [
        "FinalCols= ['open','high','low','close']\n",
        "DatasetFinal= stockdata[FinalCols]\n",
        "DatasetFinal.head()"
      ]
    },
    {
      "cell_type": "code",
      "execution_count": 26,
      "metadata": {
        "id": "m14yv1a_J0Vs"
      },
      "outputs": [],
      "source": [
        "DatasetFinal.to_pickle('final_subset.pkl')"
      ]
    },
    {
      "cell_type": "code",
      "execution_count": 27,
      "metadata": {
        "colab": {
          "base_uri": "https://localhost:8080/"
        },
        "id": "DRXYLlwELBXE",
        "outputId": "52eaee6e-de88-4a46-dc45-54f88c0a8fa5"
      },
      "outputs": [
        {
          "output_type": "execute_result",
          "data": {
            "text/plain": [
              "Index(['open', 'high', 'low', 'close'], dtype='object')"
            ]
          },
          "metadata": {},
          "execution_count": 27
        }
      ],
      "source": [
        "DatasetFinal.columns"
      ]
    },
    {
      "cell_type": "markdown",
      "metadata": {
        "id": "_04TwL7tOe2P"
      },
      "source": [
        "Target variable: close\n",
        "\n",
        "Predictors: open, high, low, datetime\n",
        "\n",
        "\n",
        "\n"
      ]
    },
    {
      "cell_type": "code",
      "execution_count": 28,
      "metadata": {
        "colab": {
          "base_uri": "https://localhost:8080/"
        },
        "id": "vWwz8sILOgYf",
        "outputId": "33924c84-4107-470f-b2ad-41174f565040"
      },
      "outputs": [
        {
          "output_type": "stream",
          "name": "stdout",
          "text": [
            "[[51.27 51.62 51.  ]\n",
            " [61.14 61.14 60.16]\n",
            " [27.6  27.6  27.16]\n",
            " ...\n",
            " [31.22 32.   31.21]\n",
            " [41.78 41.92 40.93]\n",
            " [42.13 43.13 41.75]]\n"
          ]
        }
      ],
      "source": [
        "from sklearn.preprocessing import StandardScaler\n",
        "Target = 'close'\n",
        "Predictors = ['open','high','low']\n",
        "x=DatasetFinal[Predictors].values\n",
        "y=DatasetFinal[Target].values\n",
        "#Standardising the dataset x\n",
        "#scaler = StandardScaler()\n",
        "#scaler.fit(x_train)\n",
        "#x = scaler.transform(x)\n",
        "# Split the data into training and testing set\n",
        "from sklearn.model_selection import train_test_split\n",
        "x_train, x_test, y_train, y_test = train_test_split(x, y, test_size=0.3, random_state=423)\n",
        "print(x_train)\n"
      ]
    },
    {
      "cell_type": "markdown",
      "metadata": {
        "id": "XyP4_N5Uz-_m"
      },
      "source": [
        "We will now standardise the data"
      ]
    },
    {
      "cell_type": "code",
      "execution_count": 29,
      "metadata": {
        "id": "Dd9zBzO8OU-X",
        "colab": {
          "base_uri": "https://localhost:8080/"
        },
        "outputId": "46fac4ab-d6ef-4385-9c7e-530a3f874376"
      },
      "outputs": [
        {
          "output_type": "stream",
          "name": "stdout",
          "text": [
            "[[-0.03521884 -0.04322491 -0.02346205]\n",
            " [ 0.32508834  0.30245123  0.31312402]\n",
            " [-0.89929899 -0.91540358 -0.89946774]\n",
            " ...\n",
            " [-0.76714985 -0.7556373  -0.75064966]\n",
            " [-0.38165402 -0.39543695 -0.39348627]\n",
            " [-0.36887717 -0.35150122 -0.3633552 ]]\n",
            "[[-0.56746593 -0.54213144 -0.54928594]\n",
            " [-1.38153383 -1.38816654 -1.37752286]\n",
            " [ 0.2184929   0.20441283  0.22861005]\n",
            " ...\n",
            " [ 0.01661866  0.00688361  0.03165575]\n",
            " [-1.08255553 -1.09441444 -1.07657963]\n",
            " [ 1.49070216  1.49743042  1.50256631]]\n"
          ]
        }
      ],
      "source": [
        "from sklearn.preprocessing import StandardScaler\n",
        "scaler = StandardScaler()\n",
        "scaler.fit(x_train)\n",
        "x_train = scaler.transform(x_train)\n",
        "x_test = scaler.transform(x_test)\n",
        "print(x_train)\n",
        "print(x_test)\n"
      ]
    },
    {
      "cell_type": "code",
      "execution_count": 30,
      "metadata": {
        "colab": {
          "base_uri": "https://localhost:8080/"
        },
        "id": "IE9puhg6jj6l",
        "outputId": "e5f760dd-b517-469b-befb-d09ab4c6a2e6"
      },
      "outputs": [
        {
          "output_type": "stream",
          "name": "stdout",
          "text": [
            "R2 Value: 0.9998166212966908\n",
            "\n",
            "##### Model Validation and Accuracy Calculations ##########\n",
            "       open      high       low  close  Predictedclose\n",
            "0 -0.567466 -0.542131 -0.549286  37.66       37.637813\n",
            "1 -1.381534 -1.388167 -1.377523  14.35       14.354400\n",
            "2  0.218493  0.204413  0.228610  58.07       58.113910\n",
            "3 -0.259361 -0.224414 -0.262306  46.38       45.839084\n",
            "4  0.307566  0.300273  0.328190  60.98       60.921976\n",
            "Mean Accuracy on test data: 99.40084090955861\n",
            "Median Accuracy on test data: 99.58078015902032\n",
            "Cross-Validation Scores: [99.42017504 99.38296506 99.40175534 99.42874216 99.41572453 99.43453126\n",
            " 99.39700002 99.46543182 99.39240991 99.42760775]\n",
            "Mean Accuracy: 99.41663428825832\n"
          ]
        }
      ],
      "source": [
        "#Multiple Linear Regression\n",
        "from sklearn.linear_model import LinearRegression\n",
        "RegModel = LinearRegression()\n",
        "\n",
        "\n",
        "# Creating the model on Training Data\n",
        "LREG=RegModel.fit(x_train,y_train)\n",
        "prediction=LREG.predict(x_test)\n",
        "\n",
        "from sklearn import metrics\n",
        "# Measuring Goodness of fit in Training data\n",
        "print('R2 Value:',metrics.r2_score(y_train, LREG.predict(x_train)))\n",
        "\n",
        "print('\\n##### Model Validation and Accuracy Calculations ##########')\n",
        "\n",
        "# Printing some sample values of prediction\n",
        "TestingDataResults=pd.DataFrame(data=x_test, columns=Predictors)\n",
        "TestingDataResults[Target]=y_test\n",
        "TestingDataResults[('Predicted'+Target)]=prediction\n",
        "\n",
        "# Printing sample prediction values\n",
        "print(TestingDataResults.head())\n",
        "\n",
        "# Calculating the error for each row\n",
        "TestingDataResults['APE']=100 * ((abs(\n",
        "  TestingDataResults['close']-TestingDataResults['Predictedclose']))/TestingDataResults['close'])\n",
        "\n",
        "MAPE=np.mean(TestingDataResults['APE'])\n",
        "MedianMAPE=np.median(TestingDataResults['APE'])\n",
        "\n",
        "Accuracy =100 - MAPE\n",
        "MedianAccuracy=100- MedianMAPE\n",
        "print('Mean Accuracy on test data:', Accuracy)\n",
        "print('Median Accuracy on test data:', MedianAccuracy)\n",
        "\n",
        "# Defining a custom function to calculate accuracy\n",
        "def Accuracy_Score(orig,pred):\n",
        "    MAPE = np.mean(100 * (np.abs(orig-pred)/orig))\n",
        "    return(100-MAPE)\n",
        "\n",
        "from sklearn.metrics import make_scorer\n",
        "custom_Scoring=make_scorer(Accuracy_Score, greater_is_better=True)\n",
        "\n",
        "# Importing cross validation function from sklearn\n",
        "from sklearn.model_selection import cross_val_score, KFold\n",
        "kf = KFold(n_splits=10, shuffle=True, random_state=150)\n",
        "scores = cross_val_score(RegModel, x, y, cv=kf, scoring = custom_Scoring)\n",
        "\n",
        "print(\"Cross-Validation Scores:\", scores)\n",
        "print(\"Mean Accuracy:\", np.mean(scores))"
      ]
    },
    {
      "cell_type": "code",
      "execution_count": 31,
      "metadata": {
        "colab": {
          "base_uri": "https://localhost:8080/"
        },
        "id": "ZT36wZxwRiUI",
        "outputId": "c4df14a6-c5b8-4f5d-b5ec-7446fa79ae4b"
      },
      "outputs": [
        {
          "output_type": "stream",
          "name": "stdout",
          "text": [
            "DecisionTreeRegressor(criterion='friedman_mse', max_depth=7)\n",
            "R2 Value: 0.9996809662908792\n",
            "\n",
            "##### Model Validation and Accuracy Calculations ##########\n",
            "       open      high       low  close  Predicted close\n",
            "0 -0.567466 -0.542131 -0.549286  37.66        37.357732\n",
            "1 -1.381534 -1.388167 -1.377523  14.35        14.626800\n",
            "2  0.218493  0.204413  0.228610  58.07        58.326701\n",
            "3 -0.259361 -0.224414 -0.262306  46.38        45.293400\n",
            "4  0.307566  0.300273  0.328190  60.98        60.889643\n",
            "Mean Accuracy on test data: 98.88306472572492\n",
            "Median Accuracy on test data: 99.2569121331338\n",
            "Cross-Validation Scores: [98.8577637  98.83653931 98.85593624 98.87899449 98.9376528  98.90373438\n",
            " 98.78490929 98.93621328 98.84795862 98.92603955]\n",
            "Mean Accuracy: 98.87657416719831\n"
          ]
        }
      ],
      "source": [
        "# Decision Trees (Multiple if-else statements!)\n",
        "from sklearn.tree import DecisionTreeRegressor\n",
        "RegModel = DecisionTreeRegressor(max_depth=7,criterion='friedman_mse')\n",
        "\n",
        "# Printing all the parameters of Decision Tree\n",
        "print(RegModel)\n",
        "\n",
        "# Creating the model on Training Data\n",
        "DT=RegModel.fit(x_train,y_train)\n",
        "prediction=DT.predict(x_test)\n",
        "\n",
        "from sklearn import metrics\n",
        "# Measuring Goodness of fit in Training data\n",
        "print('R2 Value:',metrics.r2_score(y_train, DT.predict(x_train)))\n",
        "\n",
        "# Plotting the feature importance for Top 10 most important columns\n",
        "\n",
        "\n",
        "print('\\n##### Model Validation and Accuracy Calculations ##########')\n",
        "\n",
        "# Printing some sample values of prediction\n",
        "TestingDataResults=pd.DataFrame(data=x_test, columns=Predictors)\n",
        "TestingDataResults[Target]=y_test\n",
        "TestingDataResults[('Predicted '+Target)]=prediction\n",
        "\n",
        "\n",
        "print(TestingDataResults.head())\n",
        "\n",
        "# Calculating the error for each row\n",
        "TestingDataResults['APE']=100 * ((abs(\n",
        "  TestingDataResults['close']-TestingDataResults['Predicted close']))/TestingDataResults['close'])\n",
        "\n",
        "MAPE=np.mean(TestingDataResults['APE'])\n",
        "MedianMAPE=np.median(TestingDataResults['APE'])\n",
        "\n",
        "Accuracy =100 - MAPE\n",
        "MedianAccuracy=100- MedianMAPE\n",
        "print('Mean Accuracy on test data:', Accuracy)\n",
        "print('Median Accuracy on test data:', MedianAccuracy)\n",
        "\n",
        "\n",
        "def Accuracy_Score(orig,pred):\n",
        "    MAPE = np.mean(100 * (np.abs(orig-pred)/orig))\n",
        "    return(100-MAPE)\n",
        "\n",
        "# Custom Scoring MAPE calculation\n",
        "from sklearn.metrics import make_scorer\n",
        "custom_Scoring=make_scorer(Accuracy_Score, greater_is_better=True)\n",
        "\n",
        "# Importing cross validation function from sklearn\n",
        "from sklearn.model_selection import cross_val_score, KFold\n",
        "kf = KFold(n_splits=10, shuffle=True, random_state=150)\n",
        "scores = cross_val_score(RegModel, x, y, cv=kf, scoring=custom_Scoring)\n",
        "\n",
        "# Print the scores and their mean\n",
        "print(\"Cross-Validation Scores:\", scores)\n",
        "print(\"Mean Accuracy:\", np.mean(scores))"
      ]
    },
    {
      "cell_type": "code",
      "execution_count": 32,
      "metadata": {
        "colab": {
          "base_uri": "https://localhost:8080/"
        },
        "id": "SGWwV2G3TLJZ",
        "outputId": "a45e9e21-a7a7-44aa-c842-60ec6cedc342"
      },
      "outputs": [
        {
          "output_type": "stream",
          "name": "stdout",
          "text": [
            "RandomForestRegressor(criterion='friedman_mse', max_depth=4, n_estimators=500)\n",
            "R2 Value: 0.9959918761573191\n",
            "\n",
            "##### Model Validation and Accuracy Calculations ##########\n",
            "       open      high       low  close  Predictedclose\n",
            "0 -0.567466 -0.542131 -0.549286  37.66       36.703542\n",
            "1 -1.381534 -1.388167 -1.377523  14.35       14.718921\n",
            "2  0.218493  0.204413  0.228610  58.07       58.810804\n",
            "3 -0.259361 -0.224414 -0.262306  46.38       45.154431\n",
            "4  0.307566  0.300273  0.328190  60.98       58.810804\n",
            "Mean Accuracy on test data: 95.61479361558763\n",
            "Median Accuracy on test data: 97.73247221368426\n",
            "Cross-Validation Scores: [95.15267516 95.4490985  95.59832585 95.73681058 95.88597103 95.45456088\n",
            " 95.12999591 95.7282254  95.31519556 96.09999916]\n",
            "Mean Accuracy: 95.55508580430566\n"
          ]
        }
      ],
      "source": [
        "# Random Forest (Bagging of multiple Decision Trees)\n",
        "from sklearn.ensemble import RandomForestRegressor\n",
        "RegModel = RandomForestRegressor(max_depth=4, n_estimators=500,criterion='friedman_mse')\n",
        "\n",
        "print(RegModel)\n",
        "\n",
        "\n",
        "RF=RegModel.fit(x_train,y_train)\n",
        "prediction=RF.predict(x_test)\n",
        "\n",
        "from sklearn import metrics\n",
        "\n",
        "print('R2 Value:',metrics.r2_score(y_train, RF.predict(x_train)))\n",
        "\n",
        "\n",
        "print('\\n##### Model Validation and Accuracy Calculations ##########')\n",
        "\n",
        "\n",
        "TestingDataResults=pd.DataFrame(data=x_test, columns=Predictors)\n",
        "TestingDataResults[Target]=y_test\n",
        "TestingDataResults[('Predicted'+Target)]=prediction\n",
        "\n",
        "# Printing sample prediction values\n",
        "print(TestingDataResults.head())\n",
        "\n",
        "# Calculating the error for each row\n",
        "TestingDataResults['APE']=100 * ((abs(\n",
        "  TestingDataResults['close']-TestingDataResults['Predictedclose']))/TestingDataResults['close'])\n",
        "\n",
        "MAPE=np.mean(TestingDataResults['APE'])\n",
        "MedianMAPE=np.median(TestingDataResults['APE'])\n",
        "\n",
        "Accuracy =100 - MAPE\n",
        "MedianAccuracy=100- MedianMAPE\n",
        "print('Mean Accuracy on test data:', Accuracy) # Can be negative sometimes due to outlier\n",
        "print('Median Accuracy on test data:', MedianAccuracy)\n",
        "\n",
        "\n",
        "# Defining a custom function to calculate accuracy\n",
        "# Make sure there are no zeros in the Target variable if you are using MAPE\n",
        "def Accuracy_Score(orig,pred):\n",
        "    MAPE = np.mean(100 * (np.abs(orig-pred)/orig))\n",
        "\n",
        "    return(100-MAPE)\n",
        "\n",
        "# Custom Scoring MAPE calculation\n",
        "from sklearn.metrics import make_scorer\n",
        "custom_Scoring=make_scorer(Accuracy_Score, greater_is_better=True)\n",
        "\n",
        "# Importing cross validation function from sklearn\n",
        "from sklearn.model_selection import cross_val_score, KFold\n",
        "kf = KFold(n_splits=10, shuffle=True, random_state=150)\n",
        "scores = cross_val_score(RegModel, x, y, cv=kf, scoring = custom_Scoring)\n",
        "\n",
        "# Print the scores and their mean\n",
        "print(\"Cross-Validation Scores:\", scores)\n",
        "print(\"Mean Accuracy:\", np.mean(scores))"
      ]
    },
    {
      "cell_type": "code",
      "execution_count": 33,
      "metadata": {
        "colab": {
          "base_uri": "https://localhost:8080/"
        },
        "id": "75DcMxzmjs42",
        "outputId": "989b5868-79d8-4ca9-9072-d30d0a8a9e65"
      },
      "outputs": [
        {
          "output_type": "stream",
          "name": "stdout",
          "text": [
            "AdaBoostRegressor(base_estimator=DecisionTreeRegressor(max_depth=3),\n",
            "                  learning_rate=0.04, n_estimators=100)\n",
            "R2 Value: 0.9861334685757096\n",
            "\n",
            "##### Model Validation and Accuracy Calculations ##########\n",
            "       open      high       low  close  Predictedclose\n",
            "0 -0.567466 -0.542131 -0.549286  37.66       33.790025\n",
            "1 -1.381534 -1.388167 -1.377523  14.35       18.512754\n",
            "2  0.218493  0.204413  0.228610  58.07       55.887523\n",
            "3 -0.259361 -0.224414 -0.262306  46.38       44.445539\n",
            "4  0.307566  0.300273  0.328190  60.98       55.887523\n",
            "Mean Accuracy on test data: 92.0326764064415\n",
            "Median Accuracy on test data: 95.02239659178183\n",
            "Cross-Validation Scores: [91.34685214 92.18203933 92.3412802  92.79003874 92.53169339 92.08274643\n",
            " 91.149479   92.54901257 92.23263266 93.32940668]\n",
            "Mean Accuracy: 92.25351811348695\n"
          ]
        }
      ],
      "source": [
        "# Adaboost (Boosting of multiple Decision Trees)\n",
        "from sklearn.ensemble import AdaBoostRegressor\n",
        "from sklearn.tree import DecisionTreeRegressor\n",
        "\n",
        "# Choosing Decision Tree with 6 level as the weak learner\n",
        "DTR=DecisionTreeRegressor(max_depth=3)\n",
        "RegModel = AdaBoostRegressor(n_estimators=100, base_estimator=DTR ,learning_rate=0.04)\n",
        "\n",
        "# Printing all the parameters of Adaboost\n",
        "print(RegModel)\n",
        "\n",
        "# Creating the model on Training Data\n",
        "AB=RegModel.fit(x_train,y_train)\n",
        "prediction=AB.predict(x_test)\n",
        "\n",
        "from sklearn import metrics\n",
        "# Measuring Goodness of fit in Training data\n",
        "print('R2 Value:',metrics.r2_score(y_train, AB.predict(x_train)))\n",
        "\n",
        "\n",
        "print('\\n##### Model Validation and Accuracy Calculations ##########')\n",
        "\n",
        "# Printing some sample values of prediction\n",
        "TestingDataResults=pd.DataFrame(data=x_test, columns=Predictors)\n",
        "TestingDataResults[Target]=y_test\n",
        "TestingDataResults[('Predicted'+Target)]=prediction\n",
        "\n",
        "# Printing sample prediction values\n",
        "print(TestingDataResults.head())\n",
        "\n",
        "# Calculating the error for each row\n",
        "TestingDataResults['APE']=100 * ((abs(\n",
        "  TestingDataResults['close']-TestingDataResults['Predictedclose']))/TestingDataResults['close'])\n",
        "\n",
        "MAPE=np.mean(TestingDataResults['APE'])\n",
        "MedianMAPE=np.median(TestingDataResults['APE'])\n",
        "\n",
        "Accuracy =100 - MAPE\n",
        "MedianAccuracy=100- MedianMAPE\n",
        "print('Mean Accuracy on test data:', Accuracy) # Can be negative sometimes due to outlier\n",
        "print('Median Accuracy on test data:', MedianAccuracy)\n",
        "\n",
        "\n",
        "# Defining a custom function to calculate accuracy\n",
        "# Make sure there are no zeros in the Target variable if you are using MAPE\n",
        "def Accuracy_Score(orig,pred):\n",
        "    MAPE = np.mean(100 * (np.abs(orig-pred)/orig))\n",
        "    return(100-MAPE)\n",
        "\n",
        "# Custom Scoring MAPE calculation\n",
        "from sklearn.metrics import make_scorer\n",
        "custom_Scoring=make_scorer(Accuracy_Score, greater_is_better=True)\n",
        "\n",
        "# Importing cross validation function from sklearn\n",
        "from sklearn.model_selection import cross_val_score, KFold\n",
        "kf = KFold(n_splits=10, shuffle=True, random_state=150)\n",
        "scores = cross_val_score(RegModel, x, y, cv=kf, scoring = custom_Scoring)\n",
        "\n",
        "# Print the scores and their mean\n",
        "print(\"Cross-Validation Scores:\", scores)\n",
        "print(\"Mean Accuracy:\", np.mean(scores))"
      ]
    },
    {
      "cell_type": "code",
      "execution_count": 34,
      "metadata": {
        "colab": {
          "base_uri": "https://localhost:8080/"
        },
        "id": "UN948TBQkxY1",
        "outputId": "50fd2aaa-da24-4d35-a750-9a45f2406b6a"
      },
      "outputs": [
        {
          "output_type": "stream",
          "name": "stdout",
          "text": [
            "R2 Value: 0.9997314229923103\n",
            "\n",
            "##### Model Validation and Accuracy Calculations ##########\n",
            "       open      high       low  close  Predictedclose\n",
            "0 -0.567466 -0.542131 -0.549286  37.66            37.0\n",
            "1 -1.381534 -1.388167 -1.377523  14.35            14.0\n",
            "2  0.218493  0.204413  0.228610  58.07            58.0\n",
            "3 -0.259361 -0.224414 -0.262306  46.38            46.0\n",
            "4  0.307566  0.300273  0.328190  60.98            61.0\n",
            "Mean Accuracy on test data: 98.93261325507892\n",
            "Median Accuracy on test data: 99.25202198852209\n",
            "Cross-Validation Scores: [99.15075052 99.09118601 99.13199786 99.17719529 99.14427493 99.09398319\n",
            " 99.09336658 99.18940664 99.13656798 99.17791245]\n",
            "Mean Accuracy: 99.13866414636506\n"
          ]
        }
      ],
      "source": [
        "# Xtreme Gradient Boosting (XGBoost)\n",
        "from xgboost import XGBRegressor\n",
        "RegModel=XGBRegressor(max_depth=2,\n",
        "                      learning_rate=0.1,\n",
        "                      n_estimators=1000,\n",
        "                      objective='reg:linear',\n",
        "                      booster='gbtree')\n",
        "\n",
        "\n",
        "XGB=RegModel.fit(x_train,y_train)\n",
        "prediction=XGB.predict(x_test)\n",
        "\n",
        "from sklearn import metrics\n",
        "# Measuring Goodness of fit in Training data\n",
        "print('R2 Value:',metrics.r2_score(y_train, XGB.predict(x_train)))\n",
        "\n",
        "\n",
        "print('\\n##### Model Validation and Accuracy Calculations ##########')\n",
        "\n",
        "# Printing some sample values of prediction\n",
        "TestingDataResults=pd.DataFrame(data=x_test, columns=Predictors)\n",
        "TestingDataResults[Target]=y_test\n",
        "TestingDataResults[('Predicted'+Target)]=np.round(prediction)\n",
        "\n",
        "# Printing sample prediction values\n",
        "print(TestingDataResults.head())\n",
        "\n",
        "# Calculating the error for each row\n",
        "TestingDataResults['APE']=100 * ((abs(\n",
        "  TestingDataResults['close']-TestingDataResults['Predictedclose']))/TestingDataResults['close'])\n",
        "\n",
        "\n",
        "MAPE=np.mean(TestingDataResults['APE'])\n",
        "MedianMAPE=np.median(TestingDataResults['APE'])\n",
        "\n",
        "Accuracy =100 - MAPE\n",
        "MedianAccuracy=100- MedianMAPE\n",
        "print('Mean Accuracy on test data:', Accuracy) # Can be negative sometimes due to outlier\n",
        "print('Median Accuracy on test data:', MedianAccuracy)\n",
        "\n",
        "\n",
        "\n",
        "def Accuracy_Score(orig,pred):\n",
        "    MAPE = np.mean(100 * (np.abs(orig-pred)/orig))\n",
        "    #print('#'*70,'Accuracy:', 100-MAPE)\n",
        "    return(100-MAPE)\n",
        "\n",
        "# Custom Scoring MAPE calculation\n",
        "from sklearn.metrics import make_scorer\n",
        "custom_Scoring=make_scorer(Accuracy_Score, greater_is_better=True)\n",
        "\n",
        "# Importing cross validation function from sklearn\n",
        "from sklearn.model_selection import cross_val_score, KFold\n",
        "kf = KFold(n_splits=10, shuffle=True, random_state=150)\n",
        "scores = cross_val_score(RegModel, x, y, cv=kf, scoring = custom_Scoring)\n",
        "\n",
        "# Print the scores and their mean\n",
        "print(\"Cross-Validation Scores:\", scores)\n",
        "print(\"Mean Accuracy:\", np.mean(scores))"
      ]
    },
    {
      "cell_type": "code",
      "execution_count": 35,
      "metadata": {
        "colab": {
          "base_uri": "https://localhost:8080/"
        },
        "id": "H0MDErhPlb7p",
        "outputId": "174b15bf-b0d3-4a4d-bb03-649128f5702a"
      },
      "outputs": [
        {
          "output_type": "stream",
          "name": "stdout",
          "text": [
            "R2 Value: 0.9998593176618243\n",
            "\n",
            "##### Model Validation and Accuracy Calculations ##########\n",
            "       open      high       low  close  Predictedclose\n",
            "0 -0.567466 -0.542131 -0.549286  37.66       37.526667\n",
            "1 -1.381534 -1.388167 -1.377523  14.35       14.263333\n",
            "2  0.218493  0.204413  0.228610  58.07       58.090000\n",
            "3 -0.259361 -0.224414 -0.262306  46.38       45.940000\n",
            "4  0.307566  0.300273  0.328190  60.98       60.773333\n",
            "Mean Accuracy on test data: 99.3175140197842\n",
            "Median Accuracy on test data: 99.55509271593604\n",
            "Cross-Validation Scores: [99.28913816 99.25354218 99.29080511 99.34907549 99.32648921 99.33562859\n",
            " 99.28452888 99.37003909 99.28686067 99.31355376]\n",
            "Mean Accuracy: 99.3099661139145\n"
          ]
        }
      ],
      "source": [
        "#kNN\n",
        "# K-Nearest Neighbor(KNN)\n",
        "from sklearn.neighbors import KNeighborsRegressor\n",
        "RegModel = KNeighborsRegressor(n_neighbors=3)\n",
        "\n",
        "\n",
        "\n",
        "# Creating the model on Training Data\n",
        "KNN=RegModel.fit(x_train,y_train)\n",
        "prediction=KNN.predict(x_test)\n",
        "\n",
        "from sklearn import metrics\n",
        "# Measuring Goodness of fit in Training data\n",
        "print('R2 Value:',metrics.r2_score(y_train, KNN.predict(x_train)))\n",
        "\n",
        "print('\\n##### Model Validation and Accuracy Calculations ##########')\n",
        "\n",
        "# Printing some sample values of prediction\n",
        "TestingDataResults=pd.DataFrame(data=x_test, columns=Predictors)\n",
        "TestingDataResults[Target]=y_test\n",
        "TestingDataResults[('Predicted'+Target)]=prediction\n",
        "\n",
        "# Printing sample prediction values\n",
        "print(TestingDataResults.head())\n",
        "\n",
        "# Calculating the error for each row\n",
        "TestingDataResults['APE']=100 * ((abs(\n",
        "  TestingDataResults['close']-TestingDataResults['Predictedclose']))/TestingDataResults['close'])\n",
        "\n",
        "MAPE=np.mean(TestingDataResults['APE'])\n",
        "MedianMAPE=np.median(TestingDataResults['APE'])\n",
        "\n",
        "Accuracy =100 - MAPE\n",
        "MedianAccuracy=100- MedianMAPE\n",
        "print('Mean Accuracy on test data:', Accuracy) # Can be negative sometimes due to outlier\n",
        "print('Median Accuracy on test data:', MedianAccuracy)\n",
        "\n",
        "# Defining a custom function to calculate accuracy\n",
        "# Make sure there are no zeros in the Target variable if you are using MAPE\n",
        "def Accuracy_Score(orig,pred):\n",
        "    MAPE = np.mean(100 * (np.abs(orig-pred)/orig))\n",
        "\n",
        "    return(100-MAPE)\n",
        "\n",
        "# Custom Scoring MAPE calculation\n",
        "from sklearn.metrics import make_scorer\n",
        "custom_Scoring=make_scorer(Accuracy_Score, greater_is_better=True)\n",
        "\n",
        "# Importing cross validation function from sklearn\n",
        "from sklearn.model_selection import cross_val_score, KFold\n",
        "kf = KFold(n_splits=10, shuffle=True, random_state=150)\n",
        "scores = cross_val_score(RegModel, x, y, cv=kf, scoring = custom_Scoring)\n",
        "\n",
        "# Print the scores and their mean\n",
        "print(\"Cross-Validation Scores:\", scores)\n",
        "print(\"Mean Accuracy:\", np.mean(scores))"
      ]
    },
    {
      "cell_type": "code",
      "execution_count": 36,
      "metadata": {
        "colab": {
          "base_uri": "https://localhost:8080/"
        },
        "id": "uOchMDOPVGKs",
        "outputId": "b6ed332c-237a-4088-89f3-f58ddcad9037"
      },
      "outputs": [
        {
          "output_type": "stream",
          "name": "stdout",
          "text": [
            "SVR(C=50, gamma=0.01)\n",
            "R2 Value: 0.9997698129786003\n",
            "\n",
            "##### Model Validation and Accuracy Calculations ##########\n",
            "       open      high       low  close  Predictedclose\n",
            "0 -0.567466 -0.542131 -0.549286  37.66       37.385045\n",
            "1 -1.381534 -1.388167 -1.377523  14.35       14.428330\n",
            "2  0.218493  0.204413  0.228610  58.07       58.165151\n",
            "3 -0.259361 -0.224414 -0.262306  46.38       45.651618\n",
            "4  0.307566  0.300273  0.328190  60.98       60.899095\n",
            "Mean Accuracy on test data: 99.32603320219867\n",
            "Median Accuracy on test data: 99.51791017891708\n",
            "Cross-Validation Scores: [99.41492158 99.3697139  99.39079294 99.42964991 99.42810322 99.41292679\n",
            " 99.37069122 99.46791064 99.38109164 99.4125045 ]\n",
            "Mean Accuracy: 99.4078306332416\n"
          ]
        }
      ],
      "source": [
        "# Support Vector Machines(SVM)\n",
        "from sklearn import svm\n",
        "RegModel = svm.SVR(C=50, kernel='rbf', gamma=0.01)\n",
        "print(RegModel)\n",
        "\n",
        "# Creating the model on Training Data\n",
        "SVM=RegModel.fit(x_train,y_train)\n",
        "prediction=SVM.predict(x_test)\n",
        "\n",
        "from sklearn import metrics\n",
        "# Measuring Goodness of fit in Training data\n",
        "print('R2 Value:',metrics.r2_score(y_train, SVM.predict(x_train)))\n",
        "print('\\n##### Model Validation and Accuracy Calculations ##########')\n",
        "\n",
        "# Printing some sample values of prediction\n",
        "TestingDataResults=pd.DataFrame(data=x_test, columns=Predictors)\n",
        "TestingDataResults[Target]=y_test\n",
        "TestingDataResults[('Predicted'+Target)]=prediction\n",
        "\n",
        "# Printing sample prediction values\n",
        "print(TestingDataResults.head())\n",
        "\n",
        "# Calculating the error for each row\n",
        "TestingDataResults['APE']=100 * ((abs(\n",
        "  TestingDataResults['close']-TestingDataResults['Predictedclose']))/TestingDataResults['close'])\n",
        "\n",
        "MAPE=np.mean(TestingDataResults['APE'])\n",
        "MedianMAPE=np.median(TestingDataResults['APE'])\n",
        "\n",
        "Accuracy =100 - MAPE\n",
        "MedianAccuracy=100- MedianMAPE\n",
        "print('Mean Accuracy on test data:', Accuracy) # Can be negative sometimes due to outlier\n",
        "print('Median Accuracy on test data:', MedianAccuracy)\n",
        "\n",
        "# Defining a custom function to calculate accuracy\n",
        "# Make sure there are no zeros in the Target variable if you are using MAPE\n",
        "def Accuracy_Score(orig,pred):\n",
        "    MAPE = np.mean(100 * (np.abs(orig-pred)/orig))\n",
        "    return(100-MAPE)\n",
        "\n",
        "# Custom Scoring MAPE calculation\n",
        "from sklearn.metrics import make_scorer\n",
        "custom_Scoring=make_scorer(Accuracy_Score, greater_is_better=True)\n",
        "\n",
        "# Importing cross validation function from sklearn\n",
        "from sklearn.model_selection import cross_val_score, KFold\n",
        "kf = KFold(n_splits=10, shuffle=True, random_state=150)\n",
        "scores = cross_val_score(RegModel, x, y, cv=kf, scoring = custom_Scoring)\n",
        "\n",
        "# Print the scores and their mean\n",
        "print(\"Cross-Validation Scores:\", scores)\n",
        "print(\"Mean Accuracy:\", np.mean(scores))\n",
        "\n"
      ]
    },
    {
      "cell_type": "markdown",
      "metadata": {
        "id": "c4A4zqF3cPa_"
      },
      "source": [
        "I have chosen multiple linear regression as the model for my system becuase of its high 5 fold cross validation accuracy."
      ]
    },
    {
      "cell_type": "markdown",
      "source": [
        "Selecting Open, high and low as predictors they are most suitable."
      ],
      "metadata": {
        "id": "WLEHBVxrQ945"
      }
    },
    {
      "cell_type": "code",
      "source": [
        "Target='close'\n",
        "Predictors=['open','high','low']\n",
        "x=DatasetFinal[Predictors].values\n",
        "y=DatasetFinal[Target].values\n",
        "from sklearn.preprocessing import StandardScaler\n",
        "scaler = StandardScaler()\n",
        "scaler.fit(x)\n",
        "x=scaler.transform(x)\n",
        "print(x)\n",
        "print(x.shape)\n"
      ],
      "metadata": {
        "colab": {
          "base_uri": "https://localhost:8080/"
        },
        "id": "TnwPETLxRONI",
        "outputId": "ba44c221-6e23-471b-d94b-b86dcc2aed32"
      },
      "execution_count": 37,
      "outputs": [
        {
          "output_type": "stream",
          "name": "stdout",
          "text": [
            "[[-0.50242978 -0.5117028  -0.52342928]\n",
            " [-0.5300441  -0.54282588 -0.54417617]\n",
            " [-0.54845364 -0.55747204 -0.58826332]\n",
            " ...\n",
            " [ 1.44456367  1.47761173  1.47197737]\n",
            " [ 1.4718098   1.46882404  1.47345929]\n",
            " [ 1.4920603   1.47431635  1.46086296]]\n",
            "(6639, 3)\n"
          ]
        }
      ]
    },
    {
      "cell_type": "markdown",
      "source": [
        "Retraining the model with the entire dataset"
      ],
      "metadata": {
        "id": "43LLbhI_NzC1"
      }
    },
    {
      "cell_type": "code",
      "source": [
        "from sklearn.linear_model import LinearRegression\n",
        "model = LinearRegression()\n",
        "Final_model = model.fit(x,y)"
      ],
      "metadata": {
        "id": "n2MMtulnN_9k"
      },
      "execution_count": 38,
      "outputs": []
    },
    {
      "cell_type": "markdown",
      "source": [
        "Save this Machine Learning Model as a pickle file"
      ],
      "metadata": {
        "id": "ekLukdMcQdQB"
      }
    },
    {
      "cell_type": "code",
      "source": [
        "import pickle\n",
        "import os\n",
        "\n",
        "# Saving the Python objects as serialized files can be done using pickle library\n",
        "# Here let us save the Final model\n",
        "with open('Linear_Regression_model.pkl', 'wb') as fileWriteStream:\n",
        "    pickle.dump(Final_model, fileWriteStream)\n",
        "    # Don't forget to close the filestream!\n",
        "    fileWriteStream.close()\n",
        "\n",
        "print('pickle file of Predictive Model is saved at Location:',os.getcwd())"
      ],
      "metadata": {
        "colab": {
          "base_uri": "https://localhost:8080/"
        },
        "id": "NfRdfANJQl9V",
        "outputId": "7e5395a7-8394-4cb0-99e7-3e93f9c9cc6f"
      },
      "execution_count": 39,
      "outputs": [
        {
          "output_type": "stream",
          "name": "stdout",
          "text": [
            "pickle file of Predictive Model is saved at Location: /content/drive/MyDrive/ST1_CapstoneProject\n"
          ]
        }
      ]
    }
  ],
  "metadata": {
    "colab": {
      "provenance": []
    },
    "kernelspec": {
      "display_name": "Python 3",
      "name": "python3"
    },
    "language_info": {
      "name": "python"
    },
    "accelerator": "TPU"
  },
  "nbformat": 4,
  "nbformat_minor": 0
}